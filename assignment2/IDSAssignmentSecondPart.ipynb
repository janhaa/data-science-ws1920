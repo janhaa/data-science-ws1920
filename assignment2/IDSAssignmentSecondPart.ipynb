{
 "cells": [
  {
   "cell_type": "markdown",
   "metadata": {},
   "source": [
    "# The Second Part of the Assignment of IDS 2019-2020\n",
    "Document your results as well as the way you obtained them in this jupyter notebook. Separate reports (pdf, word, etc.) are _not_ required. However, it is necessary that you provide the python code leading to your results as well as textual answers to the assignment questions in this notebook. *DO NOT CLEAR THE OUTPUT of the notebook you are submitting!* In the cases that the result of an algorithm is pdf, jpg, etc, you should attach the result to this notebook file and refer to that in the text.  \n",
    "\n",
    "Next to the jupyter notebook, submit one zip-file containing all data sets that you are asked to submit. Make sure they are easily identifiable, i.e. use names as requested in the corresponding question.\n",
    "\n",
    "Do not change the general structure of this notebook, but you can add further markdown or code cells to explain your solutions if necessary. In the end, submit this file and your created data sets in moodle.\n",
    "\n",
    "Only <font color=\"red\">one </font> group member should upload your group's solution.*Make sure to include group members' names and matriculation numbers*. If your name and student id are not included in the report, you will not receive any points!\n",
    "\n",
    "\n",
    "Hint 1: While answering the questions, you will get a better and better impression of the given data. <font color=\"red\"><b>Ensure that all claims you make are supported by the presented facts!</b></font>\n",
    "\n",
    "Hint 2: <font color=\"red\"><b>Some of the tasks might need some time to run. Take this into account in your planning.</b></font>\n",
    "\n",
    "Hint 3: RWTHonline allows for multiple submissions (each submission overwrites the previous ones). <font color=\"red\"><b>Partial submissions are possible and encouraged. </b></font> This helps in case of technical problems of RWTHonline, which do seldomly happen."
   ]
  },
  {
   "cell_type": "markdown",
   "metadata": {},
   "source": [
    "<font color=\"red\"><b>Student Names and IDs:\n",
    "    1. \n",
    "    2. \n",
    "    3."
   ]
  },
  {
   "cell_type": "markdown",
   "metadata": {},
   "source": [
    "## Preprocessing of the Dataset (5 points)\n",
    "\n",
    "The provided data set *air_pollution* contains hourly results of measuring the concentration of certain substances (CO, Benzene, NO2, particulate matter) and environmental conditions (temperature, relative humidity, traffic volume). This data was collected near a busy street in a city center by an automated device.\n",
    "\n",
    " You should carry out some preprocessing steps before starting the analysis:\n",
    " - Select 90% of 'air_pollution' dataset by random sampling. Use one of the group member's student number as a seed.\n",
    " - After completing this preprocessing step, export your final dataset as 'air_pollution_2.csv' dataset and use that for the next steps of the assignment.\n",
    " - If it is not directly mentioned, you should always use your extracted (above-created) dataset.\n",
    " - <font color='red'>Important!</font> Make sure that you submit your extracted dataset with your result in moodle."
   ]
  },
  {
   "cell_type": "code",
   "execution_count": 3,
   "metadata": {},
   "outputs": [],
   "source": [
    "import pandas as pd\n",
    "import seaborn as sns\n",
    "import matplotlib.pyplot as plt\n",
    "\n",
    "# read from disk\n",
    "data_non_sampled = pd.read_csv('air_pollution.csv')\n",
    "\n",
    "#ramdom sample\n",
    "data_preprocessed = data_non_sampled.sample(frac=0.9, random_state=345594)\n",
    "\n",
    "#export to disc\n",
    "data_preprocessed.to_csv('air_pollution_2.csv')"
   ]
  },
  {
   "cell_type": "markdown",
   "metadata": {},
   "source": [
    "## Question 1 - Data Preprocessing and Data Quality (10 points)"
   ]
  },
  {
   "cell_type": "markdown",
   "metadata": {},
   "source": [
    "For this question, use the extracted data set you created in the preprocessing step ('air_pollution_2.csv'), but without the features *Traffic_Volume* and *Particulate_Matter*. Remove those columns before answering the questions."
   ]
  },
  {
   "cell_type": "code",
   "execution_count": 65,
   "metadata": {},
   "outputs": [],
   "source": [
    "#import libraries and data set\n",
    "import pandas as pd\n",
    "import seaborn as sns\n",
    "import matplotlib.pyplot as plt\n",
    "import numpy as np\n",
    "from IPython.core.interactiveshell import InteractiveShell\n",
    "\n",
    "InteractiveShell.ast_node_interactivity = \"all\"\n",
    "\n",
    "data_preprocessed = pd.read_csv('air_pollution_2.csv')\n",
    "#drop columns Traffic_Volume and Particulate_Matter\n",
    "data_selected = data_preprocessed.drop(['Traffic_Volume', 'Particulate_Matter'], axis = 1)\n"
   ]
  },
  {
   "cell_type": "markdown",
   "metadata": {},
   "source": [
    "(a) We want to get a first impression of the data. To achieve this, compute and show the following:\n",
    "    - the column names (names of the features)\n",
    "    - the data type of each feature\n",
    "    - for time features: the minimum and maximum\n",
    "    - for numerical (non-time) features: the mean, standard deviation, minimum and maximum\n",
    "    - for categorical features: the number of classes and the value of the most frequent class"
   ]
  },
  {
   "cell_type": "code",
   "execution_count": 66,
   "metadata": {},
   "outputs": [
    {
     "data": {
      "text/plain": [
       "['Unnamed: 0',\n",
       " 'Date',\n",
       " 'Time',\n",
       " 'CO',\n",
       " 'Benzene',\n",
       " 'NO2',\n",
       " 'Temperature',\n",
       " 'Humidity(%)']"
      ]
     },
     "execution_count": 66,
     "metadata": {},
     "output_type": "execute_result"
    },
    {
     "data": {
      "text/plain": [
       "Unnamed: 0       int64\n",
       "Date            object\n",
       "Time            object\n",
       "CO             float64\n",
       "Benzene        float64\n",
       "NO2              int64\n",
       "Temperature    float64\n",
       "Humidity(%)    float64\n",
       "dtype: object"
      ]
     },
     "execution_count": 66,
     "metadata": {},
     "output_type": "execute_result"
    },
    {
     "data": {
      "text/html": [
       "<div>\n",
       "<style scoped>\n",
       "    .dataframe tbody tr th:only-of-type {\n",
       "        vertical-align: middle;\n",
       "    }\n",
       "\n",
       "    .dataframe tbody tr th {\n",
       "        vertical-align: top;\n",
       "    }\n",
       "\n",
       "    .dataframe thead th {\n",
       "        text-align: right;\n",
       "    }\n",
       "</style>\n",
       "<table border=\"1\" class=\"dataframe\">\n",
       "  <thead>\n",
       "    <tr style=\"text-align: right;\">\n",
       "      <th></th>\n",
       "      <th>Unnamed: 0</th>\n",
       "      <th>DateTime</th>\n",
       "      <th>Time</th>\n",
       "      <th>CO</th>\n",
       "      <th>Benzene</th>\n",
       "      <th>NO2</th>\n",
       "      <th>Temperature</th>\n",
       "      <th>Humidity(%)</th>\n",
       "    </tr>\n",
       "  </thead>\n",
       "  <tbody>\n",
       "    <tr>\n",
       "      <th>0</th>\n",
       "      <td>4696</td>\n",
       "      <td>22.09.04</td>\n",
       "      <td>14:00:00</td>\n",
       "      <td>2.2</td>\n",
       "      <td>12.1</td>\n",
       "      <td>117</td>\n",
       "      <td>28.5</td>\n",
       "      <td>37.3</td>\n",
       "    </tr>\n",
       "    <tr>\n",
       "      <th>1</th>\n",
       "      <td>3381</td>\n",
       "      <td>29.07.04</td>\n",
       "      <td>10:00:00</td>\n",
       "      <td>-200.0</td>\n",
       "      <td>17.9</td>\n",
       "      <td>171</td>\n",
       "      <td>31.8</td>\n",
       "      <td>19.4</td>\n",
       "    </tr>\n",
       "    <tr>\n",
       "      <th>2</th>\n",
       "      <td>523</td>\n",
       "      <td>01.04.04</td>\n",
       "      <td>22:00:00</td>\n",
       "      <td>2.0</td>\n",
       "      <td>9.9</td>\n",
       "      <td>113</td>\n",
       "      <td>15.8</td>\n",
       "      <td>48.0</td>\n",
       "    </tr>\n",
       "    <tr>\n",
       "      <th>3</th>\n",
       "      <td>4162</td>\n",
       "      <td>31.08.04</td>\n",
       "      <td>1:00:00</td>\n",
       "      <td>-200.0</td>\n",
       "      <td>4.7</td>\n",
       "      <td>-200</td>\n",
       "      <td>23.5</td>\n",
       "      <td>58.3</td>\n",
       "    </tr>\n",
       "    <tr>\n",
       "      <th>4</th>\n",
       "      <td>4064</td>\n",
       "      <td>27.08.04</td>\n",
       "      <td>20:00:00</td>\n",
       "      <td>2.4</td>\n",
       "      <td>-200.0</td>\n",
       "      <td>124</td>\n",
       "      <td>-200.0</td>\n",
       "      <td>-200.0</td>\n",
       "    </tr>\n",
       "    <tr>\n",
       "      <th>5</th>\n",
       "      <td>2198</td>\n",
       "      <td>10.06.04</td>\n",
       "      <td>23:00:00</td>\n",
       "      <td>2.7</td>\n",
       "      <td>14.2</td>\n",
       "      <td>115</td>\n",
       "      <td>25.5</td>\n",
       "      <td>34.1</td>\n",
       "    </tr>\n",
       "    <tr>\n",
       "      <th>6</th>\n",
       "      <td>7644</td>\n",
       "      <td>23.01.05</td>\n",
       "      <td>3:00:00</td>\n",
       "      <td>-200.0</td>\n",
       "      <td>5.9</td>\n",
       "      <td>-200</td>\n",
       "      <td>4.7</td>\n",
       "      <td>46.6</td>\n",
       "    </tr>\n",
       "    <tr>\n",
       "      <th>7</th>\n",
       "      <td>3105</td>\n",
       "      <td>18.07.04</td>\n",
       "      <td>3:00:00</td>\n",
       "      <td>0.8</td>\n",
       "      <td>3.8</td>\n",
       "      <td>-200</td>\n",
       "      <td>24.7</td>\n",
       "      <td>36.4</td>\n",
       "    </tr>\n",
       "    <tr>\n",
       "      <th>8</th>\n",
       "      <td>6094</td>\n",
       "      <td>19.11.04</td>\n",
       "      <td>10:00:00</td>\n",
       "      <td>5.6</td>\n",
       "      <td>16.7</td>\n",
       "      <td>193</td>\n",
       "      <td>16.1</td>\n",
       "      <td>59.2</td>\n",
       "    </tr>\n",
       "    <tr>\n",
       "      <th>9</th>\n",
       "      <td>4811</td>\n",
       "      <td>27.09.04</td>\n",
       "      <td>12:00:00</td>\n",
       "      <td>1.6</td>\n",
       "      <td>8.3</td>\n",
       "      <td>95</td>\n",
       "      <td>21.9</td>\n",
       "      <td>30.7</td>\n",
       "    </tr>\n",
       "    <tr>\n",
       "      <th>10</th>\n",
       "      <td>2840</td>\n",
       "      <td>07.07.04</td>\n",
       "      <td>5:00:00</td>\n",
       "      <td>0.5</td>\n",
       "      <td>4.0</td>\n",
       "      <td>53</td>\n",
       "      <td>24.0</td>\n",
       "      <td>37.8</td>\n",
       "    </tr>\n",
       "    <tr>\n",
       "      <th>11</th>\n",
       "      <td>7521</td>\n",
       "      <td>18.01.05</td>\n",
       "      <td>2:00:00</td>\n",
       "      <td>1.0</td>\n",
       "      <td>3.4</td>\n",
       "      <td>105</td>\n",
       "      <td>3.2</td>\n",
       "      <td>58.8</td>\n",
       "    </tr>\n",
       "    <tr>\n",
       "      <th>12</th>\n",
       "      <td>1749</td>\n",
       "      <td>22.05.04</td>\n",
       "      <td>9:00:00</td>\n",
       "      <td>2.2</td>\n",
       "      <td>11.7</td>\n",
       "      <td>102</td>\n",
       "      <td>20.6</td>\n",
       "      <td>47.1</td>\n",
       "    </tr>\n",
       "    <tr>\n",
       "      <th>13</th>\n",
       "      <td>7082</td>\n",
       "      <td>30.12.04</td>\n",
       "      <td>21:00:00</td>\n",
       "      <td>-200.0</td>\n",
       "      <td>5.5</td>\n",
       "      <td>-200</td>\n",
       "      <td>8.7</td>\n",
       "      <td>44.3</td>\n",
       "    </tr>\n",
       "    <tr>\n",
       "      <th>14</th>\n",
       "      <td>1358</td>\n",
       "      <td>06.05.04</td>\n",
       "      <td>21:00:00</td>\n",
       "      <td>1.6</td>\n",
       "      <td>6.6</td>\n",
       "      <td>93</td>\n",
       "      <td>12.3</td>\n",
       "      <td>66.4</td>\n",
       "    </tr>\n",
       "    <tr>\n",
       "      <th>15</th>\n",
       "      <td>4837</td>\n",
       "      <td>28.09.04</td>\n",
       "      <td>23:00:00</td>\n",
       "      <td>1.1</td>\n",
       "      <td>5.7</td>\n",
       "      <td>85</td>\n",
       "      <td>18.6</td>\n",
       "      <td>49.1</td>\n",
       "    </tr>\n",
       "    <tr>\n",
       "      <th>16</th>\n",
       "      <td>6423</td>\n",
       "      <td>03.12.04</td>\n",
       "      <td>12:00:00</td>\n",
       "      <td>3.0</td>\n",
       "      <td>14.9</td>\n",
       "      <td>144</td>\n",
       "      <td>16.4</td>\n",
       "      <td>72.1</td>\n",
       "    </tr>\n",
       "    <tr>\n",
       "      <th>17</th>\n",
       "      <td>6823</td>\n",
       "      <td>20.12.04</td>\n",
       "      <td>6:00:00</td>\n",
       "      <td>0.6</td>\n",
       "      <td>0.7</td>\n",
       "      <td>39</td>\n",
       "      <td>8.6</td>\n",
       "      <td>58.8</td>\n",
       "    </tr>\n",
       "    <tr>\n",
       "      <th>18</th>\n",
       "      <td>4401</td>\n",
       "      <td>10.09.04</td>\n",
       "      <td>5:00:00</td>\n",
       "      <td>0.5</td>\n",
       "      <td>3.6</td>\n",
       "      <td>55</td>\n",
       "      <td>22.4</td>\n",
       "      <td>43.5</td>\n",
       "    </tr>\n",
       "    <tr>\n",
       "      <th>19</th>\n",
       "      <td>4273</td>\n",
       "      <td>04.09.04</td>\n",
       "      <td>8:00:00</td>\n",
       "      <td>1.9</td>\n",
       "      <td>11.0</td>\n",
       "      <td>-200</td>\n",
       "      <td>23.4</td>\n",
       "      <td>51.6</td>\n",
       "    </tr>\n",
       "    <tr>\n",
       "      <th>20</th>\n",
       "      <td>299</td>\n",
       "      <td>23.03.04</td>\n",
       "      <td>1:00:00</td>\n",
       "      <td>0.8</td>\n",
       "      <td>2.7</td>\n",
       "      <td>64</td>\n",
       "      <td>14.0</td>\n",
       "      <td>51.3</td>\n",
       "    </tr>\n",
       "    <tr>\n",
       "      <th>21</th>\n",
       "      <td>3478</td>\n",
       "      <td>02.08.04</td>\n",
       "      <td>23:00:00</td>\n",
       "      <td>0.1</td>\n",
       "      <td>9.4</td>\n",
       "      <td>93</td>\n",
       "      <td>27.1</td>\n",
       "      <td>49.4</td>\n",
       "    </tr>\n",
       "    <tr>\n",
       "      <th>22</th>\n",
       "      <td>1293</td>\n",
       "      <td>03.05.04</td>\n",
       "      <td>21:00:00</td>\n",
       "      <td>2.0</td>\n",
       "      <td>9.8</td>\n",
       "      <td>100</td>\n",
       "      <td>18.7</td>\n",
       "      <td>64.6</td>\n",
       "    </tr>\n",
       "    <tr>\n",
       "      <th>23</th>\n",
       "      <td>2701</td>\n",
       "      <td>01.07.04</td>\n",
       "      <td>21:00:00</td>\n",
       "      <td>1.9</td>\n",
       "      <td>10.2</td>\n",
       "      <td>111</td>\n",
       "      <td>28.7</td>\n",
       "      <td>34.7</td>\n",
       "    </tr>\n",
       "    <tr>\n",
       "      <th>24</th>\n",
       "      <td>1728</td>\n",
       "      <td>21.05.04</td>\n",
       "      <td>10:00:00</td>\n",
       "      <td>2.8</td>\n",
       "      <td>17.1</td>\n",
       "      <td>148</td>\n",
       "      <td>26.5</td>\n",
       "      <td>27.0</td>\n",
       "    </tr>\n",
       "    <tr>\n",
       "      <th>25</th>\n",
       "      <td>4376</td>\n",
       "      <td>09.09.04</td>\n",
       "      <td>3:00:00</td>\n",
       "      <td>0.3</td>\n",
       "      <td>2.3</td>\n",
       "      <td>-200</td>\n",
       "      <td>23.0</td>\n",
       "      <td>33.0</td>\n",
       "    </tr>\n",
       "    <tr>\n",
       "      <th>26</th>\n",
       "      <td>6320</td>\n",
       "      <td>29.11.04</td>\n",
       "      <td>22:00:00</td>\n",
       "      <td>1.2</td>\n",
       "      <td>4.0</td>\n",
       "      <td>78</td>\n",
       "      <td>16.3</td>\n",
       "      <td>59.7</td>\n",
       "    </tr>\n",
       "    <tr>\n",
       "      <th>27</th>\n",
       "      <td>4824</td>\n",
       "      <td>27.09.04</td>\n",
       "      <td>20:00:00</td>\n",
       "      <td>3.5</td>\n",
       "      <td>14.9</td>\n",
       "      <td>145</td>\n",
       "      <td>19.1</td>\n",
       "      <td>36.8</td>\n",
       "    </tr>\n",
       "    <tr>\n",
       "      <th>28</th>\n",
       "      <td>7269</td>\n",
       "      <td>07.01.05</td>\n",
       "      <td>22:00:00</td>\n",
       "      <td>3.9</td>\n",
       "      <td>15.4</td>\n",
       "      <td>146</td>\n",
       "      <td>5.5</td>\n",
       "      <td>83.5</td>\n",
       "    </tr>\n",
       "    <tr>\n",
       "      <th>29</th>\n",
       "      <td>9023</td>\n",
       "      <td>21.03.05</td>\n",
       "      <td>21:00:00</td>\n",
       "      <td>3.8</td>\n",
       "      <td>14.3</td>\n",
       "      <td>183</td>\n",
       "      <td>15.3</td>\n",
       "      <td>61.0</td>\n",
       "    </tr>\n",
       "    <tr>\n",
       "      <th>...</th>\n",
       "      <td>...</td>\n",
       "      <td>...</td>\n",
       "      <td>...</td>\n",
       "      <td>...</td>\n",
       "      <td>...</td>\n",
       "      <td>...</td>\n",
       "      <td>...</td>\n",
       "      <td>...</td>\n",
       "    </tr>\n",
       "    <tr>\n",
       "      <th>8391</th>\n",
       "      <td>1735</td>\n",
       "      <td>22.05.04</td>\n",
       "      <td>4:00:00</td>\n",
       "      <td>-200.0</td>\n",
       "      <td>4.0</td>\n",
       "      <td>58</td>\n",
       "      <td>16.9</td>\n",
       "      <td>49.8</td>\n",
       "    </tr>\n",
       "    <tr>\n",
       "      <th>8392</th>\n",
       "      <td>4425</td>\n",
       "      <td>11.09.04</td>\n",
       "      <td>2:00:00</td>\n",
       "      <td>-200.0</td>\n",
       "      <td>4.2</td>\n",
       "      <td>-200</td>\n",
       "      <td>23.2</td>\n",
       "      <td>41.2</td>\n",
       "    </tr>\n",
       "    <tr>\n",
       "      <th>8393</th>\n",
       "      <td>2734</td>\n",
       "      <td>02.07.04</td>\n",
       "      <td>15:00:00</td>\n",
       "      <td>1.7</td>\n",
       "      <td>11.2</td>\n",
       "      <td>119</td>\n",
       "      <td>38.1</td>\n",
       "      <td>22.6</td>\n",
       "    </tr>\n",
       "    <tr>\n",
       "      <th>8394</th>\n",
       "      <td>4215</td>\n",
       "      <td>02.09.04</td>\n",
       "      <td>15:00:00</td>\n",
       "      <td>-200.0</td>\n",
       "      <td>13.5</td>\n",
       "      <td>-200</td>\n",
       "      <td>36.4</td>\n",
       "      <td>20.3</td>\n",
       "    </tr>\n",
       "    <tr>\n",
       "      <th>8395</th>\n",
       "      <td>343</td>\n",
       "      <td>25.03.04</td>\n",
       "      <td>5:00:00</td>\n",
       "      <td>0.5</td>\n",
       "      <td>0.6</td>\n",
       "      <td>20</td>\n",
       "      <td>9.9</td>\n",
       "      <td>66.8</td>\n",
       "    </tr>\n",
       "    <tr>\n",
       "      <th>8396</th>\n",
       "      <td>3022</td>\n",
       "      <td>14.07.04</td>\n",
       "      <td>10:00:00</td>\n",
       "      <td>2.8</td>\n",
       "      <td>15.7</td>\n",
       "      <td>148</td>\n",
       "      <td>30.2</td>\n",
       "      <td>22.8</td>\n",
       "    </tr>\n",
       "    <tr>\n",
       "      <th>8397</th>\n",
       "      <td>6757</td>\n",
       "      <td>17.12.04</td>\n",
       "      <td>17:00:00</td>\n",
       "      <td>3.8</td>\n",
       "      <td>-200.0</td>\n",
       "      <td>152</td>\n",
       "      <td>-200.0</td>\n",
       "      <td>-200.0</td>\n",
       "    </tr>\n",
       "    <tr>\n",
       "      <th>8398</th>\n",
       "      <td>7452</td>\n",
       "      <td>15.01.05</td>\n",
       "      <td>8:00:00</td>\n",
       "      <td>1.9</td>\n",
       "      <td>9.7</td>\n",
       "      <td>127</td>\n",
       "      <td>3.5</td>\n",
       "      <td>80.3</td>\n",
       "    </tr>\n",
       "    <tr>\n",
       "      <th>8399</th>\n",
       "      <td>8486</td>\n",
       "      <td>27.02.05</td>\n",
       "      <td>6:00:00</td>\n",
       "      <td>0.9</td>\n",
       "      <td>3.1</td>\n",
       "      <td>77</td>\n",
       "      <td>1.6</td>\n",
       "      <td>74.3</td>\n",
       "    </tr>\n",
       "    <tr>\n",
       "      <th>8400</th>\n",
       "      <td>6506</td>\n",
       "      <td>06.12.04</td>\n",
       "      <td>10:00:00</td>\n",
       "      <td>4.7</td>\n",
       "      <td>18.5</td>\n",
       "      <td>161</td>\n",
       "      <td>15.9</td>\n",
       "      <td>63.4</td>\n",
       "    </tr>\n",
       "    <tr>\n",
       "      <th>8401</th>\n",
       "      <td>6263</td>\n",
       "      <td>26.11.04</td>\n",
       "      <td>14:00:00</td>\n",
       "      <td>5.6</td>\n",
       "      <td>27.2</td>\n",
       "      <td>208</td>\n",
       "      <td>15.8</td>\n",
       "      <td>56.3</td>\n",
       "    </tr>\n",
       "    <tr>\n",
       "      <th>8402</th>\n",
       "      <td>3868</td>\n",
       "      <td>18.08.04</td>\n",
       "      <td>17:00:00</td>\n",
       "      <td>1.7</td>\n",
       "      <td>9.1</td>\n",
       "      <td>78</td>\n",
       "      <td>36.8</td>\n",
       "      <td>26.2</td>\n",
       "    </tr>\n",
       "    <tr>\n",
       "      <th>8403</th>\n",
       "      <td>4561</td>\n",
       "      <td>16.09.04</td>\n",
       "      <td>17:00:00</td>\n",
       "      <td>3.3</td>\n",
       "      <td>17.7</td>\n",
       "      <td>124</td>\n",
       "      <td>23.8</td>\n",
       "      <td>46.1</td>\n",
       "    </tr>\n",
       "    <tr>\n",
       "      <th>8404</th>\n",
       "      <td>4386</td>\n",
       "      <td>09.09.04</td>\n",
       "      <td>15:00:00</td>\n",
       "      <td>2.4</td>\n",
       "      <td>15.0</td>\n",
       "      <td>152</td>\n",
       "      <td>35.4</td>\n",
       "      <td>16.6</td>\n",
       "    </tr>\n",
       "    <tr>\n",
       "      <th>8405</th>\n",
       "      <td>4247</td>\n",
       "      <td>03.09.04</td>\n",
       "      <td>7:00:00</td>\n",
       "      <td>-200.0</td>\n",
       "      <td>18.0</td>\n",
       "      <td>-200</td>\n",
       "      <td>22.0</td>\n",
       "      <td>59.3</td>\n",
       "    </tr>\n",
       "    <tr>\n",
       "      <th>8406</th>\n",
       "      <td>264</td>\n",
       "      <td>21.03.04</td>\n",
       "      <td>17:00:00</td>\n",
       "      <td>2.3</td>\n",
       "      <td>9.0</td>\n",
       "      <td>105</td>\n",
       "      <td>19.4</td>\n",
       "      <td>41.3</td>\n",
       "    </tr>\n",
       "    <tr>\n",
       "      <th>8407</th>\n",
       "      <td>7223</td>\n",
       "      <td>05.01.05</td>\n",
       "      <td>7:00:00</td>\n",
       "      <td>2.2</td>\n",
       "      <td>11.1</td>\n",
       "      <td>126</td>\n",
       "      <td>7.9</td>\n",
       "      <td>70.6</td>\n",
       "    </tr>\n",
       "    <tr>\n",
       "      <th>8408</th>\n",
       "      <td>9269</td>\n",
       "      <td>31.03.05</td>\n",
       "      <td>7:00:00</td>\n",
       "      <td>4.0</td>\n",
       "      <td>23.6</td>\n",
       "      <td>133</td>\n",
       "      <td>12.7</td>\n",
       "      <td>69.6</td>\n",
       "    </tr>\n",
       "    <tr>\n",
       "      <th>8409</th>\n",
       "      <td>5785</td>\n",
       "      <td>06.11.04</td>\n",
       "      <td>15:00:00</td>\n",
       "      <td>3.4</td>\n",
       "      <td>17.7</td>\n",
       "      <td>141</td>\n",
       "      <td>22.0</td>\n",
       "      <td>54.2</td>\n",
       "    </tr>\n",
       "    <tr>\n",
       "      <th>8410</th>\n",
       "      <td>9286</td>\n",
       "      <td>01.04.05</td>\n",
       "      <td>11:00:00</td>\n",
       "      <td>1.0</td>\n",
       "      <td>3.6</td>\n",
       "      <td>123</td>\n",
       "      <td>18.9</td>\n",
       "      <td>33.8</td>\n",
       "    </tr>\n",
       "    <tr>\n",
       "      <th>8411</th>\n",
       "      <td>3278</td>\n",
       "      <td>25.07.04</td>\n",
       "      <td>4:00:00</td>\n",
       "      <td>-200.0</td>\n",
       "      <td>2.0</td>\n",
       "      <td>26</td>\n",
       "      <td>24.1</td>\n",
       "      <td>59.6</td>\n",
       "    </tr>\n",
       "    <tr>\n",
       "      <th>8412</th>\n",
       "      <td>5847</td>\n",
       "      <td>09.11.04</td>\n",
       "      <td>7:00:00</td>\n",
       "      <td>-200.0</td>\n",
       "      <td>7.4</td>\n",
       "      <td>-200</td>\n",
       "      <td>3.7</td>\n",
       "      <td>76.2</td>\n",
       "    </tr>\n",
       "    <tr>\n",
       "      <th>8413</th>\n",
       "      <td>7727</td>\n",
       "      <td>26.01.05</td>\n",
       "      <td>22:00:00</td>\n",
       "      <td>0.4</td>\n",
       "      <td>2.9</td>\n",
       "      <td>114</td>\n",
       "      <td>4.6</td>\n",
       "      <td>54.8</td>\n",
       "    </tr>\n",
       "    <tr>\n",
       "      <th>8414</th>\n",
       "      <td>4304</td>\n",
       "      <td>06.09.04</td>\n",
       "      <td>2:00:00</td>\n",
       "      <td>0.6</td>\n",
       "      <td>1.7</td>\n",
       "      <td>-200</td>\n",
       "      <td>24.3</td>\n",
       "      <td>42.9</td>\n",
       "    </tr>\n",
       "    <tr>\n",
       "      <th>8415</th>\n",
       "      <td>5927</td>\n",
       "      <td>12.11.04</td>\n",
       "      <td>14:00:00</td>\n",
       "      <td>2.3</td>\n",
       "      <td>9.9</td>\n",
       "      <td>125</td>\n",
       "      <td>17.4</td>\n",
       "      <td>57.3</td>\n",
       "    </tr>\n",
       "    <tr>\n",
       "      <th>8416</th>\n",
       "      <td>6455</td>\n",
       "      <td>04.12.04</td>\n",
       "      <td>15:00:00</td>\n",
       "      <td>2.6</td>\n",
       "      <td>9.6</td>\n",
       "      <td>115</td>\n",
       "      <td>11.9</td>\n",
       "      <td>88.7</td>\n",
       "    </tr>\n",
       "    <tr>\n",
       "      <th>8417</th>\n",
       "      <td>4893</td>\n",
       "      <td>30.09.04</td>\n",
       "      <td>10:00:00</td>\n",
       "      <td>-200.0</td>\n",
       "      <td>22.2</td>\n",
       "      <td>-200</td>\n",
       "      <td>20.2</td>\n",
       "      <td>53.0</td>\n",
       "    </tr>\n",
       "    <tr>\n",
       "      <th>8418</th>\n",
       "      <td>322</td>\n",
       "      <td>24.03.04</td>\n",
       "      <td>6:00:00</td>\n",
       "      <td>0.8</td>\n",
       "      <td>1.7</td>\n",
       "      <td>57</td>\n",
       "      <td>10.8</td>\n",
       "      <td>57.2</td>\n",
       "    </tr>\n",
       "    <tr>\n",
       "      <th>8419</th>\n",
       "      <td>7239</td>\n",
       "      <td>06.01.05</td>\n",
       "      <td>14:00:00</td>\n",
       "      <td>1.7</td>\n",
       "      <td>6.2</td>\n",
       "      <td>127</td>\n",
       "      <td>16.5</td>\n",
       "      <td>50.8</td>\n",
       "    </tr>\n",
       "    <tr>\n",
       "      <th>8420</th>\n",
       "      <td>890</td>\n",
       "      <td>16.04.04</td>\n",
       "      <td>13:00:00</td>\n",
       "      <td>4.3</td>\n",
       "      <td>18.9</td>\n",
       "      <td>149</td>\n",
       "      <td>15.7</td>\n",
       "      <td>62.5</td>\n",
       "    </tr>\n",
       "  </tbody>\n",
       "</table>\n",
       "<p>8421 rows × 8 columns</p>\n",
       "</div>"
      ],
      "text/plain": [
       "      Unnamed: 0  DateTime      Time     CO  Benzene  NO2  Temperature  \\\n",
       "0           4696  22.09.04  14:00:00    2.2     12.1  117         28.5   \n",
       "1           3381  29.07.04  10:00:00 -200.0     17.9  171         31.8   \n",
       "2            523  01.04.04  22:00:00    2.0      9.9  113         15.8   \n",
       "3           4162  31.08.04   1:00:00 -200.0      4.7 -200         23.5   \n",
       "4           4064  27.08.04  20:00:00    2.4   -200.0  124       -200.0   \n",
       "5           2198  10.06.04  23:00:00    2.7     14.2  115         25.5   \n",
       "6           7644  23.01.05   3:00:00 -200.0      5.9 -200          4.7   \n",
       "7           3105  18.07.04   3:00:00    0.8      3.8 -200         24.7   \n",
       "8           6094  19.11.04  10:00:00    5.6     16.7  193         16.1   \n",
       "9           4811  27.09.04  12:00:00    1.6      8.3   95         21.9   \n",
       "10          2840  07.07.04   5:00:00    0.5      4.0   53         24.0   \n",
       "11          7521  18.01.05   2:00:00    1.0      3.4  105          3.2   \n",
       "12          1749  22.05.04   9:00:00    2.2     11.7  102         20.6   \n",
       "13          7082  30.12.04  21:00:00 -200.0      5.5 -200          8.7   \n",
       "14          1358  06.05.04  21:00:00    1.6      6.6   93         12.3   \n",
       "15          4837  28.09.04  23:00:00    1.1      5.7   85         18.6   \n",
       "16          6423  03.12.04  12:00:00    3.0     14.9  144         16.4   \n",
       "17          6823  20.12.04   6:00:00    0.6      0.7   39          8.6   \n",
       "18          4401  10.09.04   5:00:00    0.5      3.6   55         22.4   \n",
       "19          4273  04.09.04   8:00:00    1.9     11.0 -200         23.4   \n",
       "20           299  23.03.04   1:00:00    0.8      2.7   64         14.0   \n",
       "21          3478  02.08.04  23:00:00    0.1      9.4   93         27.1   \n",
       "22          1293  03.05.04  21:00:00    2.0      9.8  100         18.7   \n",
       "23          2701  01.07.04  21:00:00    1.9     10.2  111         28.7   \n",
       "24          1728  21.05.04  10:00:00    2.8     17.1  148         26.5   \n",
       "25          4376  09.09.04   3:00:00    0.3      2.3 -200         23.0   \n",
       "26          6320  29.11.04  22:00:00    1.2      4.0   78         16.3   \n",
       "27          4824  27.09.04  20:00:00    3.5     14.9  145         19.1   \n",
       "28          7269  07.01.05  22:00:00    3.9     15.4  146          5.5   \n",
       "29          9023  21.03.05  21:00:00    3.8     14.3  183         15.3   \n",
       "...          ...       ...       ...    ...      ...  ...          ...   \n",
       "8391        1735  22.05.04   4:00:00 -200.0      4.0   58         16.9   \n",
       "8392        4425  11.09.04   2:00:00 -200.0      4.2 -200         23.2   \n",
       "8393        2734  02.07.04  15:00:00    1.7     11.2  119         38.1   \n",
       "8394        4215  02.09.04  15:00:00 -200.0     13.5 -200         36.4   \n",
       "8395         343  25.03.04   5:00:00    0.5      0.6   20          9.9   \n",
       "8396        3022  14.07.04  10:00:00    2.8     15.7  148         30.2   \n",
       "8397        6757  17.12.04  17:00:00    3.8   -200.0  152       -200.0   \n",
       "8398        7452  15.01.05   8:00:00    1.9      9.7  127          3.5   \n",
       "8399        8486  27.02.05   6:00:00    0.9      3.1   77          1.6   \n",
       "8400        6506  06.12.04  10:00:00    4.7     18.5  161         15.9   \n",
       "8401        6263  26.11.04  14:00:00    5.6     27.2  208         15.8   \n",
       "8402        3868  18.08.04  17:00:00    1.7      9.1   78         36.8   \n",
       "8403        4561  16.09.04  17:00:00    3.3     17.7  124         23.8   \n",
       "8404        4386  09.09.04  15:00:00    2.4     15.0  152         35.4   \n",
       "8405        4247  03.09.04   7:00:00 -200.0     18.0 -200         22.0   \n",
       "8406         264  21.03.04  17:00:00    2.3      9.0  105         19.4   \n",
       "8407        7223  05.01.05   7:00:00    2.2     11.1  126          7.9   \n",
       "8408        9269  31.03.05   7:00:00    4.0     23.6  133         12.7   \n",
       "8409        5785  06.11.04  15:00:00    3.4     17.7  141         22.0   \n",
       "8410        9286  01.04.05  11:00:00    1.0      3.6  123         18.9   \n",
       "8411        3278  25.07.04   4:00:00 -200.0      2.0   26         24.1   \n",
       "8412        5847  09.11.04   7:00:00 -200.0      7.4 -200          3.7   \n",
       "8413        7727  26.01.05  22:00:00    0.4      2.9  114          4.6   \n",
       "8414        4304  06.09.04   2:00:00    0.6      1.7 -200         24.3   \n",
       "8415        5927  12.11.04  14:00:00    2.3      9.9  125         17.4   \n",
       "8416        6455  04.12.04  15:00:00    2.6      9.6  115         11.9   \n",
       "8417        4893  30.09.04  10:00:00 -200.0     22.2 -200         20.2   \n",
       "8418         322  24.03.04   6:00:00    0.8      1.7   57         10.8   \n",
       "8419        7239  06.01.05  14:00:00    1.7      6.2  127         16.5   \n",
       "8420         890  16.04.04  13:00:00    4.3     18.9  149         15.7   \n",
       "\n",
       "      Humidity(%)  \n",
       "0            37.3  \n",
       "1            19.4  \n",
       "2            48.0  \n",
       "3            58.3  \n",
       "4          -200.0  \n",
       "5            34.1  \n",
       "6            46.6  \n",
       "7            36.4  \n",
       "8            59.2  \n",
       "9            30.7  \n",
       "10           37.8  \n",
       "11           58.8  \n",
       "12           47.1  \n",
       "13           44.3  \n",
       "14           66.4  \n",
       "15           49.1  \n",
       "16           72.1  \n",
       "17           58.8  \n",
       "18           43.5  \n",
       "19           51.6  \n",
       "20           51.3  \n",
       "21           49.4  \n",
       "22           64.6  \n",
       "23           34.7  \n",
       "24           27.0  \n",
       "25           33.0  \n",
       "26           59.7  \n",
       "27           36.8  \n",
       "28           83.5  \n",
       "29           61.0  \n",
       "...           ...  \n",
       "8391         49.8  \n",
       "8392         41.2  \n",
       "8393         22.6  \n",
       "8394         20.3  \n",
       "8395         66.8  \n",
       "8396         22.8  \n",
       "8397       -200.0  \n",
       "8398         80.3  \n",
       "8399         74.3  \n",
       "8400         63.4  \n",
       "8401         56.3  \n",
       "8402         26.2  \n",
       "8403         46.1  \n",
       "8404         16.6  \n",
       "8405         59.3  \n",
       "8406         41.3  \n",
       "8407         70.6  \n",
       "8408         69.6  \n",
       "8409         54.2  \n",
       "8410         33.8  \n",
       "8411         59.6  \n",
       "8412         76.2  \n",
       "8413         54.8  \n",
       "8414         42.9  \n",
       "8415         57.3  \n",
       "8416         88.7  \n",
       "8417         53.0  \n",
       "8418         57.2  \n",
       "8419         50.8  \n",
       "8420         62.5  \n",
       "\n",
       "[8421 rows x 8 columns]"
      ]
     },
     "execution_count": 66,
     "metadata": {},
     "output_type": "execute_result"
    },
    {
     "data": {
      "text/plain": [
       "Timestamp('2004-03-10 18:00:00')"
      ]
     },
     "execution_count": 66,
     "metadata": {},
     "output_type": "execute_result"
    },
    {
     "data": {
      "text/plain": [
       "Timestamp('2005-04-04 14:00:00')"
      ]
     },
     "execution_count": 66,
     "metadata": {},
     "output_type": "execute_result"
    },
    {
     "name": "stdout",
     "output_type": "stream",
     "text": [
      "CO statistics: mean, standard deviation, min, max\n"
     ]
    },
    {
     "data": {
      "text/plain": [
       "-34.097138107113174"
      ]
     },
     "execution_count": 66,
     "metadata": {},
     "output_type": "execute_result"
    },
    {
     "data": {
      "text/plain": [
       "77.56413633102426"
      ]
     },
     "execution_count": 66,
     "metadata": {},
     "output_type": "execute_result"
    },
    {
     "data": {
      "text/plain": [
       "-200.0"
      ]
     },
     "execution_count": 66,
     "metadata": {},
     "output_type": "execute_result"
    },
    {
     "data": {
      "text/plain": [
       "11.9"
      ]
     },
     "execution_count": 66,
     "metadata": {},
     "output_type": "execute_result"
    },
    {
     "name": "stdout",
     "output_type": "stream",
     "text": [
      "Benzene statistics: mean, standard deviation, min, max\n"
     ]
    },
    {
     "data": {
      "text/plain": [
       "1.8095950599691248"
      ]
     },
     "execution_count": 66,
     "metadata": {},
     "output_type": "execute_result"
    },
    {
     "data": {
      "text/plain": [
       "41.47071353763478"
      ]
     },
     "execution_count": 66,
     "metadata": {},
     "output_type": "execute_result"
    },
    {
     "data": {
      "text/plain": [
       "-200.0"
      ]
     },
     "execution_count": 66,
     "metadata": {},
     "output_type": "execute_result"
    },
    {
     "data": {
      "text/plain": [
       "52.1"
      ]
     },
     "execution_count": 66,
     "metadata": {},
     "output_type": "execute_result"
    },
    {
     "name": "stdout",
     "output_type": "stream",
     "text": [
      "NO2 statistics: mean, standard deviation, min, max\n"
     ]
    },
    {
     "data": {
      "text/plain": [
       "58.20828880180501"
      ]
     },
     "execution_count": 66,
     "metadata": {},
     "output_type": "execute_result"
    },
    {
     "data": {
      "text/plain": [
       "126.77705976006214"
      ]
     },
     "execution_count": 66,
     "metadata": {},
     "output_type": "execute_result"
    },
    {
     "data": {
      "text/plain": [
       "-200"
      ]
     },
     "execution_count": 66,
     "metadata": {},
     "output_type": "execute_result"
    },
    {
     "data": {
      "text/plain": [
       "333"
      ]
     },
     "execution_count": 66,
     "metadata": {},
     "output_type": "execute_result"
    },
    {
     "name": "stdout",
     "output_type": "stream",
     "text": [
      "Temperature statistics: mean, standard deviation, min, max\n"
     ]
    },
    {
     "data": {
      "text/plain": [
       "9.669861061631634"
      ]
     },
     "execution_count": 66,
     "metadata": {},
     "output_type": "execute_result"
    },
    {
     "data": {
      "text/plain": [
       "43.28852808750915"
      ]
     },
     "execution_count": 66,
     "metadata": {},
     "output_type": "execute_result"
    },
    {
     "data": {
      "text/plain": [
       "-200.0"
      ]
     },
     "execution_count": 66,
     "metadata": {},
     "output_type": "execute_result"
    },
    {
     "data": {
      "text/plain": [
       "44.6"
      ]
     },
     "execution_count": 66,
     "metadata": {},
     "output_type": "execute_result"
    },
    {
     "name": "stdout",
     "output_type": "stream",
     "text": [
      "Humidity(%) statistics: mean, standard deviation, min, max\n"
     ]
    },
    {
     "data": {
      "text/plain": [
       "39.545137157107234"
      ]
     },
     "execution_count": 66,
     "metadata": {},
     "output_type": "execute_result"
    },
    {
     "data": {
      "text/plain": [
       "51.35338183426199"
      ]
     },
     "execution_count": 66,
     "metadata": {},
     "output_type": "execute_result"
    },
    {
     "data": {
      "text/plain": [
       "-200.0"
      ]
     },
     "execution_count": 66,
     "metadata": {},
     "output_type": "execute_result"
    },
    {
     "data": {
      "text/plain": [
       "88.7"
      ]
     },
     "execution_count": 66,
     "metadata": {},
     "output_type": "execute_result"
    }
   ],
   "source": [
    "#your code\n",
    "import time\n",
    "#get all the column names\n",
    "list(data_selected)\n",
    "data_selected.dtypes\n",
    "tmp = data_selected['Date'] + ' ' + data_selected['Time']\n",
    "data_selected.rename(columns={'Date': 'DateTime'})\n",
    "data_selected['DateTime'] = pd.to_datetime(tmp, dayfirst = True)\n",
    "data_selected['DateTime'].min()\n",
    "max(data_selected['DateTime'])\n",
    "\n",
    "column = ['CO', 'Benzene', 'NO2', 'Temperature', 'Humidity(%)']\n",
    "for cl in column:    \n",
    "    print(cl + ' statistics: mean, standard deviation, min, max')\n",
    "    data_selected[cl].mean()\n",
    "    data_selected[cl].std()\n",
    "    min(data_selected[cl])\n",
    "    max(data_selected[cl])\n"
   ]
  },
  {
   "cell_type": "markdown",
   "metadata": {},
   "source": [
    "(b) Consider the features 'date' and 'time'. Combine them into a new column 'Datetime' using the datetime data type, and drop the old columns 'date' and 'time'. \n",
    "\n",
    "Which of the two representations of date and time do you think is more suitable for most analysis applications?"
   ]
  },
  {
   "cell_type": "markdown",
   "metadata": {},
   "source": [
    "Explanation: Joint representation is more suiteable as it contains more information about a single date point, e.g. it is possible do analyse desired values at different hours on one day. This would be more difficult if this information is spread across two columns. "
   ]
  },
  {
   "cell_type": "code",
   "execution_count": 67,
   "metadata": {},
   "outputs": [],
   "source": [
    "#your code\n",
    "data_selected = data_selected.drop(['Date', 'Time'], axis = 1)"
   ]
  },
  {
   "cell_type": "markdown",
   "metadata": {},
   "source": [
    "(c) For each feature corresponding to a measured value, provide a simple scatter plot showing the data points over time. Can you spot any obvious data quality issues, e.g. inconsistencies, implausible values or missing values (without researching on specific domain knowledge)?\n",
    "\n",
    "*Hint: you may perform additional computations to verify your findings.*"
   ]
  },
  {
   "cell_type": "code",
   "execution_count": 78,
   "metadata": {},
   "outputs": [
    {
     "data": {
      "text/plain": [
       "<matplotlib.axes._subplots.AxesSubplot at 0x7f74d92ec350>"
      ]
     },
     "execution_count": 78,
     "metadata": {},
     "output_type": "execute_result"
    },
    {
     "data": {
      "text/plain": [
       "<matplotlib.axes._subplots.AxesSubplot at 0x7f74d92a7350>"
      ]
     },
     "execution_count": 78,
     "metadata": {},
     "output_type": "execute_result"
    },
    {
     "data": {
      "text/plain": [
       "<matplotlib.axes._subplots.AxesSubplot at 0x7f74d926a1d0>"
      ]
     },
     "execution_count": 78,
     "metadata": {},
     "output_type": "execute_result"
    },
    {
     "data": {
      "text/plain": [
       "<matplotlib.axes._subplots.AxesSubplot at 0x7f74d91d3990>"
      ]
     },
     "execution_count": 78,
     "metadata": {},
     "output_type": "execute_result"
    },
    {
     "data": {
      "text/plain": [
       "<matplotlib.axes._subplots.AxesSubplot at 0x7f74d9180ed0>"
      ]
     },
     "execution_count": 78,
     "metadata": {},
     "output_type": "execute_result"
    },
    {
     "data": {
      "image/png": "[encoded data removed]",
      "text/plain": [
       "<Figure size 432x288 with 1 Axes>"
      ]
     },
     "metadata": {
      "needs_background": "light"
     },
     "output_type": "display_data"
    },
    {
     "data": {
      "image/png": "[encoded data removed]",
      "text/plain": [
       "<Figure size 432x288 with 1 Axes>"
      ]
     },
     "metadata": {
      "needs_background": "light"
     },
     "output_type": "display_data"
    },
    {
     "data": {
      "image/png": "[encoded data removed]",
      "text/plain": [
       "<Figure size 432x288 with 1 Axes>"
      ]
     },
     "metadata": {
      "needs_background": "light"
     },
     "output_type": "display_data"
    },
    {
     "data": {
      "image/png": "[encoded data removed]",
      "text/plain": [
       "<Figure size 432x288 with 1 Axes>"
      ]
     },
     "metadata": {
      "needs_background": "light"
     },
     "output_type": "display_data"
    },
    {
     "data": {
      "image/png": "[encoded data removed]",
      "text/plain": [
       "<Figure size 432x288 with 1 Axes>"
      ]
     },
     "metadata": {
      "needs_background": "light"
     },
     "output_type": "display_data"
    }
   ],
   "source": [
    "#your code\n",
    "data_selected = data_selected.sort_values(by= ['DateTime'])\n",
    "data_selected['time_index'] = range(1, len(data_selected) + 1)\n",
    "for cl in column:\n",
    "    data_selected.plot.scatter(x= 'time_index', y= cl)"
   ]
  },
  {
   "cell_type": "markdown",
   "metadata": {},
   "source": [
    "Explanation: We have no duplicate Timestamps (data_selected.duplicated(subset = 'DateTime') returns false for every value), and therefore we can sort the date set by DateTime and apply a simple index to use the scatter plot function, which requires int or str as input values for the axises. \n",
    "Humidity is antiproportional to the temperature. It seems that for all measured values -200 is an error or default value, and does not represent the actual value at the time. "
   ]
  },
  {
   "cell_type": "markdown",
   "metadata": {},
   "source": [
    "(d) We need to handle any implausible or missing data. In the lecture, several strategies to do so have been introduced, for example, deleting data rows that contain missing/implausible values or replacing them by a value derived from other data points. \n",
    "\n",
    "In this question, consider implausible values to be the ones identified in question (c).\n",
    "\n",
    "    1) For all numerical features, compute and show mean, standard deviation, minimum and maximum, while ignoring the missing and implausible values. Also, print the total number of data rows.\n",
    "    \n",
    "    2) Choose a strategy (or combination of strategies) to handle missing/implausible values. Create a cleaned data set with all those values handled accordingly.\n",
    "    \n",
    "    3) For all numerical features, compute and show mean, standard deviation, minimum and maximum with respect to your cleaned data set. Also print the total number of data rows.\n",
    "    \n",
    "    4) Motivate and explain your strategy and describe its (dis-)advantages compared to other options. Compare the computed statistical values before and after cleaning and briefly describe and evaluate any changes."
   ]
  },
  {
   "cell_type": "code",
   "execution_count": 6,
   "metadata": {},
   "outputs": [],
   "source": [
    "#your code"
   ]
  },
  {
   "cell_type": "markdown",
   "metadata": {},
   "source": [
    "Explanation: "
   ]
  },
  {
   "cell_type": "markdown",
   "metadata": {},
   "source": [
    "## Question 2 - Data Preprocessing  and Advanced Visualization (15 points)"
   ]
  },
  {
   "cell_type": "markdown",
   "metadata": {},
   "source": [
    "For this question, use the extracted data set you created in the preprocessing step ('air_pollution_2.csv')."
   ]
  },
  {
   "cell_type": "markdown",
   "metadata": {},
   "source": [
    "(a) To create a suitable input for the following questions, modify the data set as listed below and then print the first 5 data rows:\n",
    "\n",
    "    - Remove the columns 'Traffic_Volume' and 'Particulate_Matter'\n",
    "    - Replace the columns 'Date' and 'Time' by a combined column 'Datetime' using the datetime data type\n",
    "    - Restrict the data to the timeframe between 2004-04-01 and 2005-03-31\n",
    "    - Drop all rows that contain a missing value or a value below -37\n",
    "    \n",
    "*Hint: You may be able to reuse some of your code or data sets created above.*"
   ]
  },
  {
   "cell_type": "code",
   "execution_count": 7,
   "metadata": {},
   "outputs": [],
   "source": [
    "#your code"
   ]
  },
  {
   "cell_type": "markdown",
   "metadata": {},
   "source": [
    "(b) For temperature, humidity and CO compute the mean value for each month. Create two stream graphs based on this newly computed data, that visualize the change in temperature, CO and humidity over the months:\n",
    "\n",
    "    1) For the first stream graph, simply use the mean values you computed for each month.\n",
    "    \n",
    "    2) For the second stream graph, first normalize the computed mean values by mapping them individually to an interval between 0 and 1, that is, apply Min-max normalization."
   ]
  },
  {
   "cell_type": "code",
   "execution_count": 8,
   "metadata": {},
   "outputs": [],
   "source": [
    "#your code"
   ]
  },
  {
   "cell_type": "markdown",
   "metadata": {},
   "source": [
    "(c) Answer the following questions based on the stream graphs created in question 2(a) and briefly explain how you derived the answer. Which of the two stream graphs do you consider more adequate to obtain the answers?\n",
    "\n",
    "    1) In which month is the average CO lowest?\n",
    "    \n",
    "    2) Is there any correlation between humidity and CO?\n",
    "    \n",
    "    3) Between which months is temperature increasing?"
   ]
  },
  {
   "cell_type": "markdown",
   "metadata": {},
   "source": [
    "Explanation:"
   ]
  },
  {
   "cell_type": "markdown",
   "metadata": {},
   "source": [
    "(d) We want to create a heat map that visualizes the CO measured for different combinations of humidity and temperature. \n",
    "The heatmap should have 12 columns and 12 rows. The shown CO value should be the *median* of all values for the combination of humidity and temperature.\n",
    "\n",
    "Modify the data as needed. Use a binning strategy of your choice for converting numerical data to categorical data. Motivate and explain all your choices and modifications."
   ]
  },
  {
   "cell_type": "code",
   "execution_count": 9,
   "metadata": {},
   "outputs": [],
   "source": [
    "#your code"
   ]
  },
  {
   "cell_type": "markdown",
   "metadata": {},
   "source": [
    "(e) Use the modified data to create a heat map as specified in question part (c). Answer the following questions based on that heat map and briefly explain how you derived your answer:\n",
    "\n",
    "    1) For which combination of humidity and temperature values is the median CO highest? \n",
    "    \n",
    "    2) How do you explain empty fields in your heat map?\n",
    "    \n",
    "    3) Is CO correlating with temperature, humidity, or both?"
   ]
  },
  {
   "cell_type": "code",
   "execution_count": 10,
   "metadata": {},
   "outputs": [],
   "source": [
    "#your code"
   ]
  },
  {
   "cell_type": "markdown",
   "metadata": {},
   "source": [
    "Explanation:"
   ]
  },
  {
   "cell_type": "markdown",
   "metadata": {},
   "source": [
    "## Question 3 - Clustering (15 points): "
   ]
  },
  {
   "cell_type": "markdown",
   "metadata": {},
   "source": [
    "(a) For this question, use the extracted data set you created in the preprocessing step ('air_pollution_2.csv'). Use a scatter diagram to find the relation between the 'Traffic_Volume' and 'Particulate_Matter' columns."
   ]
  },
  {
   "cell_type": "code",
   "execution_count": 11,
   "metadata": {},
   "outputs": [],
   "source": [
    "# Your code"
   ]
  },
  {
   "cell_type": "markdown",
   "metadata": {},
   "source": [
    "(b) From the previous question you found the relationship between two columns which are suitable for applying clustering methods. Find the two arrays corresponding to these to columns and drop nan values from them. Apply the k_means method for clustering the two mentioned columns. Use three different number of clusters for classifying."
   ]
  },
  {
   "cell_type": "code",
   "execution_count": 12,
   "metadata": {},
   "outputs": [],
   "source": [
    "# Your code"
   ]
  },
  {
   "cell_type": "markdown",
   "metadata": {},
   "source": [
    "(c) Apply the DBSCAN method for clustering the two mentioned columns. Use three different eps and min_samples for clustering."
   ]
  },
  {
   "cell_type": "code",
   "execution_count": 13,
   "metadata": {},
   "outputs": [],
   "source": [
    "# Your code"
   ]
  },
  {
   "cell_type": "markdown",
   "metadata": {},
   "source": [
    "(d) Compare k_means and DBSCAN results. Which of these methods is more suitable for clustering this data? Why?"
   ]
  },
  {
   "cell_type": "code",
   "execution_count": 14,
   "metadata": {},
   "outputs": [],
   "source": [
    "# Your code"
   ]
  },
  {
   "cell_type": "markdown",
   "metadata": {},
   "source": [
    "Explanation:"
   ]
  },
  {
   "cell_type": "markdown",
   "metadata": {},
   "source": [
    "(e) Add noise to the two mentioned columns. For adding noise, first find the range of these two columns and add a random number of 30 samples of noise in the range of each column to that. Plot the scatter diagram again.\n",
    "Repeat k_means and DBSCAN algorithms for clustering. Which of these methods is more suitable for clustering this data? Why?"
   ]
  },
  {
   "cell_type": "code",
   "execution_count": 15,
   "metadata": {},
   "outputs": [],
   "source": [
    "# Your code"
   ]
  },
  {
   "cell_type": "markdown",
   "metadata": {},
   "source": [
    "Explanation:"
   ]
  },
  {
   "cell_type": "markdown",
   "metadata": {},
   "source": [
    "## Question 4 - Frequent itemsets and association rules (15 points): "
   ]
  },
  {
   "cell_type": "markdown",
   "metadata": {},
   "source": [
    "(a) You should carry out some preprocessing steps before starting the analysis:\n",
    " - Select 90% of 'applications' dataset by random sampling. Use one of the group member's student number as a seed.\n",
    " - After completing this preprocessing step, export your final dataset as 'applications_2.csv' dataset and use that for the next steps of the assignment.\n",
    " - <font color='red'>Important!</font> Make sure that you submit your extracted dataset with your result in moodle."
   ]
  },
  {
   "cell_type": "code",
   "execution_count": 16,
   "metadata": {},
   "outputs": [],
   "source": [
    "# Your code"
   ]
  },
  {
   "cell_type": "markdown",
   "metadata": {},
   "source": [
    "(b) Find the most frequent itemsets with the support of more than 0.4 by using the Apriori algorithm (Hint: When you are creating rows to make the data_set, you should use none_empty strings)."
   ]
  },
  {
   "cell_type": "code",
   "execution_count": 17,
   "metadata": {},
   "outputs": [],
   "source": [
    "# Your code"
   ]
  },
  {
   "cell_type": "markdown",
   "metadata": {},
   "source": [
    "(c) Find the most frequent itemsets with the support of more than 0.4 by using the Apriori algorithm having more than 2 members."
   ]
  },
  {
   "cell_type": "code",
   "execution_count": 18,
   "metadata": {},
   "outputs": [],
   "source": [
    "# Your code"
   ]
  },
  {
   "cell_type": "markdown",
   "metadata": {},
   "source": [
    "(d) Find the itemsets having min_confidence=0.3 and min_lift=1.2. Print support, confidence and lift of filtered rules in one table."
   ]
  },
  {
   "cell_type": "code",
   "execution_count": 19,
   "metadata": {},
   "outputs": [],
   "source": [
    "# Your code"
   ]
  },
  {
   "cell_type": "markdown",
   "metadata": {},
   "source": [
    "## Question 5 - Text Mining (15 points)\n",
    "\n",
    "Among the datasets given for this assignment you will find the files \"pg_train\" and \"pg_test\". These two files contain a labeled corpus, already splitted in training and test set.\n",
    "The corpus consists of sentences from several novels, labeled with the name of the author. The first task is text classification: you will train a set of classifiers that predict the author of a piece of text.\n",
    "\n",
    "(a) Perform preprocessing on the training corpus (all lowercase, no punctuation, tokenization, stemming, stopword removal) and obtain a binary document-term matrix; train a logistic classifier with the author as target."
   ]
  },
  {
   "cell_type": "code",
   "execution_count": 20,
   "metadata": {},
   "outputs": [],
   "source": [
    "# Your code"
   ]
  },
  {
   "cell_type": "markdown",
   "metadata": {},
   "source": [
    "(b) Perform preprocessing on the training corpus (all lowercase, no punctuation, tokenization, stemming, stopword removal) and obtain a document-term matrix of counts; train a logistic classifier with the author as target.\n"
   ]
  },
  {
   "cell_type": "code",
   "execution_count": 21,
   "metadata": {},
   "outputs": [],
   "source": [
    "# Your code"
   ]
  },
  {
   "cell_type": "markdown",
   "metadata": {},
   "source": [
    "(c) Perform preprocessing on the training corpus (all lowercase, no punctuation, tokenization, stemming, stopword removal) and obtain a tf-idf scores document-term matrix; train a logistic classifier.\n"
   ]
  },
  {
   "cell_type": "code",
   "execution_count": 22,
   "metadata": {},
   "outputs": [],
   "source": [
    "# Your code"
   ]
  },
  {
   "cell_type": "markdown",
   "metadata": {},
   "source": [
    "(d) Perform preprocessing on the training corpus (all lowercase, no punctuation, tokenization, stemming, stopword removal) and obtain a doc2vec embedding in order to reduce the dimension of the document vector to 300; use the doc2vec model you just trained to convert the training set to a set of document vectors; train a logistic classifier with the author as target.\n"
   ]
  },
  {
   "cell_type": "code",
   "execution_count": 23,
   "metadata": {},
   "outputs": [],
   "source": [
    "# Your code"
   ]
  },
  {
   "cell_type": "markdown",
   "metadata": {},
   "source": [
    "(e) Predict the classification with the four models on the test data."
   ]
  },
  {
   "cell_type": "code",
   "execution_count": 24,
   "metadata": {},
   "outputs": [],
   "source": [
    "# Your code"
   ]
  },
  {
   "cell_type": "markdown",
   "metadata": {},
   "source": [
    "(f) Obtain confusion matrices for the four different models.\n"
   ]
  },
  {
   "cell_type": "code",
   "execution_count": 25,
   "metadata": {},
   "outputs": [],
   "source": [
    "# Your code"
   ]
  },
  {
   "cell_type": "markdown",
   "metadata": {},
   "source": [
    "(g) Obtain accuracy and f1-score for the four different models.\n"
   ]
  },
  {
   "cell_type": "code",
   "execution_count": 26,
   "metadata": {},
   "outputs": [],
   "source": [
    "# Your code"
   ]
  },
  {
   "cell_type": "markdown",
   "metadata": {},
   "source": [
    "(h) Briefly comment on the quality of the predictions for the four models."
   ]
  },
  {
   "cell_type": "markdown",
   "metadata": {},
   "source": [
    "Explanation:\n"
   ]
  },
  {
   "cell_type": "markdown",
   "metadata": {},
   "source": [
    "(i) For the two authors Austen and Chesterton separately, build a bigram language model. You should use both training and test data to build the model. Do not perform stemming or stopword removal for this task, but do use the other preprocessing steps described in (a). Use both right and left padding, and manage unknown terms by using a dedicated token."
   ]
  },
  {
   "cell_type": "code",
   "execution_count": 27,
   "metadata": {},
   "outputs": [],
   "source": [
    "# Your code"
   ]
  },
  {
   "cell_type": "markdown",
   "metadata": {},
   "source": [
    "(j) For each author, use the correspondent language models from (i) to generate, using MLE, a sentence of fifteen words starting from each of the following terms:"
   ]
  },
  {
   "cell_type": "code",
   "execution_count": 28,
   "metadata": {},
   "outputs": [
    {
     "data": {
      "text/plain": [
       "'It'"
      ]
     },
     "execution_count": 28,
     "metadata": {},
     "output_type": "execute_result"
    }
   ],
   "source": [
    "'She'\n",
    "'They'\n",
    "'It'"
   ]
  },
  {
   "cell_type": "markdown",
   "metadata": {},
   "source": [
    "(k) Now, computer another two models (for Austen and Chesterton separately), build a trigram model with the same data as in (i). Use both right and left padding, and manage unknown terms by using a dedicated token."
   ]
  },
  {
   "cell_type": "code",
   "execution_count": 29,
   "metadata": {},
   "outputs": [],
   "source": [
    "# Your code"
   ]
  },
  {
   "cell_type": "markdown",
   "metadata": {},
   "source": [
    "(l) For each author, use the correspondent language models from (k) to generate, using MLE, a sentence of fifteen words starting from each of the same terms as question (j):"
   ]
  },
  {
   "cell_type": "code",
   "execution_count": 30,
   "metadata": {},
   "outputs": [],
   "source": [
    "# Your code"
   ]
  },
  {
   "cell_type": "markdown",
   "metadata": {},
   "source": [
    "(m) Comment on the quality of the models and generated text. Which model performs better? In general, which differences are there in using trigrams as opposed to bigrams?"
   ]
  },
  {
   "cell_type": "markdown",
   "metadata": {},
   "source": [
    "Explanation:\n"
   ]
  },
  {
   "cell_type": "markdown",
   "metadata": {},
   "source": [
    "## Question 6 - Process Mining (15 points)\n",
    "For this part, refer to the online docs of pm4py (https://pm4py.fit.fraunhofer.de/).\n",
    "Important: if you did not do it in the instruction, you should make sure to have the latest pm4py version: to get it is sufficient to type `pip install pm4py --upgrade`.\n",
    "In this section of the assignment you will be working with a real life event log, derived from the activity of the help desk department of an Italian software company. The data is contained in the file \"event_log.xes\".\n",
    "\n",
    "(a) Use the provided event log and identify the least frequent variant and the most frequent variant.\n"
   ]
  },
  {
   "cell_type": "code",
   "execution_count": 31,
   "metadata": {},
   "outputs": [],
   "source": [
    "# Your code"
   ]
  },
  {
   "cell_type": "markdown",
   "metadata": {},
   "source": [
    "(b) Remove all the variants that contain less than 1% of the traces in the log. Create a new event log without these variants."
   ]
  },
  {
   "cell_type": "code",
   "execution_count": 32,
   "metadata": {},
   "outputs": [],
   "source": [
    "# Your code"
   ]
  },
  {
   "cell_type": "markdown",
   "metadata": {},
   "source": [
    "(c) Use Inductive miner algorithm to discover the process model based on you new event log (the filtered log without the infrequent variants of question (b)).\n"
   ]
  },
  {
   "cell_type": "code",
   "execution_count": 33,
   "metadata": {},
   "outputs": [],
   "source": [
    "# Your code"
   ]
  },
  {
   "cell_type": "markdown",
   "metadata": {},
   "source": [
    "(d) Perform the token replay conformance checking using your discovered model (c) and the original event log. Does your process model fit the log?\n"
   ]
  },
  {
   "cell_type": "code",
   "execution_count": 34,
   "metadata": {},
   "outputs": [],
   "source": [
    "# Your code"
   ]
  },
  {
   "cell_type": "markdown",
   "metadata": {},
   "source": [
    "Explanation:\n"
   ]
  },
  {
   "cell_type": "markdown",
   "metadata": {},
   "source": [
    "(e) Calculate the fitness of the model in (c)."
   ]
  },
  {
   "cell_type": "code",
   "execution_count": 35,
   "metadata": {},
   "outputs": [],
   "source": [
    "# Your code"
   ]
  },
  {
   "cell_type": "markdown",
   "metadata": {},
   "source": [
    "(f) Are there any deviations between the process model and the event log? If so, where and why?"
   ]
  },
  {
   "cell_type": "markdown",
   "metadata": {},
   "source": [
    "Explanation:\n"
   ]
  },
  {
   "cell_type": "markdown",
   "metadata": {},
   "source": [
    "(g) Now use the original event log and remove the two most frequent variants, and discover the model based on your new event log (the filtered log without two most frequent variants).\n"
   ]
  },
  {
   "cell_type": "code",
   "execution_count": 36,
   "metadata": {},
   "outputs": [],
   "source": [
    "# Your code"
   ]
  },
  {
   "cell_type": "markdown",
   "metadata": {},
   "source": [
    "(h) Perform the token replay conformance checking using the newly discovered model of question (g) and the original event log. Does your process model fit the log?"
   ]
  },
  {
   "cell_type": "code",
   "execution_count": 37,
   "metadata": {},
   "outputs": [],
   "source": [
    "# Your code"
   ]
  },
  {
   "cell_type": "markdown",
   "metadata": {},
   "source": [
    "Explanation:\n"
   ]
  },
  {
   "cell_type": "markdown",
   "metadata": {},
   "source": [
    "(i) Calculate the fitness of the model in (g)."
   ]
  },
  {
   "cell_type": "code",
   "execution_count": 38,
   "metadata": {},
   "outputs": [],
   "source": [
    "# Your code"
   ]
  },
  {
   "cell_type": "markdown",
   "metadata": {},
   "source": [
    "(j) Are there any deviations in the process model? If so, where and why?"
   ]
  },
  {
   "cell_type": "markdown",
   "metadata": {},
   "source": [
    "Explanation:"
   ]
  },
  {
   "cell_type": "markdown",
   "metadata": {},
   "source": [
    "(k) Use the complete event log (original event log) and discover your process model using Inductive Miner.\n"
   ]
  },
  {
   "cell_type": "code",
   "execution_count": 39,
   "metadata": {},
   "outputs": [],
   "source": [
    "# Your code"
   ]
  },
  {
   "cell_type": "markdown",
   "metadata": {},
   "source": [
    "(l) Do the token replay conformance checking using your newly discovered model and the original event log. Does your process model fit the log?"
   ]
  },
  {
   "cell_type": "code",
   "execution_count": 40,
   "metadata": {},
   "outputs": [],
   "source": [
    "# Your code"
   ]
  },
  {
   "cell_type": "markdown",
   "metadata": {},
   "source": [
    "Explanation:"
   ]
  },
  {
   "cell_type": "markdown",
   "metadata": {},
   "source": [
    "(m) How are these three discovered process models different from each other? Which model is the best fitting to the original log? Why?"
   ]
  },
  {
   "cell_type": "markdown",
   "metadata": {},
   "source": [
    "Explanation:\n"
   ]
  },
  {
   "cell_type": "markdown",
   "metadata": {},
   "source": [
    "(n) Visualize the model discovered in question (k) enriched with frequency information. Subsequently, visualize that same model enriched with performance information."
   ]
  },
  {
   "cell_type": "code",
   "execution_count": 41,
   "metadata": {},
   "outputs": [],
   "source": [
    "# Your code"
   ]
  },
  {
   "cell_type": "markdown",
   "metadata": {},
   "source": [
    "(o) If you were the process owner and you had more resources to hire employees, on which parts of the process would you assign them to maximize efficiency?"
   ]
  },
  {
   "cell_type": "markdown",
   "metadata": {},
   "source": [
    "Explanation:\n"
   ]
  },
  {
   "cell_type": "markdown",
   "metadata": {},
   "source": [
    "(p) Add your further comments and considerations on the frequency and performance informations. Does the process have a \"happy path\", and is it shown in the enhanced process models? Where are the major bottlenecks in this process? Is there any rework?"
   ]
  },
  {
   "cell_type": "markdown",
   "metadata": {},
   "source": [
    "Explanation:\n"
   ]
  }
 ],
 "metadata": {
  "kernelspec": {
   "display_name": "Python 3",
   "language": "python",
   "name": "python3"
  },
  "language_info": {
   "codemirror_mode": {
    "name": "ipython",
    "version": 3
   },
   "file_extension": ".py",
   "mimetype": "text/x-python",
   "name": "python",
   "nbconvert_exporter": "python",
   "pygments_lexer": "ipython3",
   "version": "3.7.5"
  }
 },
 "nbformat": 4,
 "nbformat_minor": 2
}
