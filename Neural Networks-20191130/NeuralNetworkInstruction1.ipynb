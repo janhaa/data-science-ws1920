{
 "cells": [
  {
   "cell_type": "markdown",
   "metadata": {},
   "source": [
    "## A Simple Feedforward Neural Network\n",
    "We simply try to see how the feedforward neural networks work in practice! \n",
    "-  Our Neural Network has one hidden layer and two inputs\n",
    "-  With two inputs and one hidden layer with two neurons, how many weights do we need?"
   ]
  },
  {
   "cell_type": "code",
   "execution_count": null,
   "metadata": {},
   "outputs": [],
   "source": [
    "\n",
    "import numpy as np\n",
    "\n",
    "#activation funcion\n",
    "def sigmoid(x):\n",
    "    return \n",
    "\n",
    "#class of your neural network\n",
    "class NeuralNetwork:\n",
    "    \n",
    "    #set features of your neural network\n",
    "    def __init__(self, x, y):\n",
    "        self.input      =  #set of training input\n",
    "        #randomly assign the weights\n",
    "        self.weights1   =  #create ? random weights for \n",
    "        self.weights2   =  #create ? random weights           \n",
    "        self.y          = #set of output for the training input set\n",
    "        self.output     = #add value of zero at first at the shape of y\n",
    "    \n",
    "    #feedfarward function \n",
    "    def feedforward(self):\n",
    "        \n",
    "        #do calculation for the input value of neurons in the hidden layer\n",
    "        in_hidden_node1 = \n",
    "        in_hidden_node2 = \n",
    "        #activation function and calculate the value of layer one and output of your network\n",
    "        self.layer1n1 = \n",
    "        self.layer1n2 = \n",
    "        self.output = \n",
    "        return #output\n",
    "#Test what you have done :D \n",
    "\n",
    "if __name__ == \"__main__\":\n",
    "    #X = np.array([[0,0],[0,1],[1,0],[1,1]])\n",
    "    #y = np.array([[0],[1],[1],[0]])\n",
    "    nn = NeuralNetwork(X,y)     \n",
    "    # print your output layer and your weights\n",
    "   \n",
    "\n",
    "\n"
   ]
  }
 ],
 "metadata": {
  "kernelspec": {
   "display_name": "Python 3",
   "language": "python",
   "name": "python3"
  },
  "language_info": {
   "codemirror_mode": {
    "name": "ipython",
    "version": 3
   },
   "file_extension": ".py",
   "mimetype": "text/x-python",
   "name": "python",
   "nbconvert_exporter": "python",
   "pygments_lexer": "ipython3",
   "version": "3.7.0"
  }
 },
 "nbformat": 4,
 "nbformat_minor": 2
}
