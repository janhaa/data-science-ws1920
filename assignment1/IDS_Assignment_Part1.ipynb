{
 "cells": [
  {
   "cell_type": "markdown",
   "metadata": {},
   "source": [
    "# The First Part of the Assignment of IDS 2019-2020\n",
    "Document your results as well as the way you obtained them in this jupyter notebook. A seperate report (pdf, word etc.) is _not_ required. However, it is necessary that you provide the python code leading to your results as well as textual answers to the assignment questions in this notebook. *DO NOT CLEAR THE OUTPUT of the notebook your are submitting!* In the cases that the result of an algorithm is pdf, jpg, etc, you should attach the result to this notebook file and refer to that in the text.  \n",
    "\n",
    "Next to the jupyter notebook, submit one zip-file containing all data sets that you are asked to submit. Make sure they are easily identifiable, i.e. use names as requested in the corresponding question.\n",
    "\n",
    "Do not change the general structure of this notebook, but you can add further markdown or code cells to explain your solutions if necessary. In the end, submit this file and your created data sets in moodle.\n",
    "\n",
    "Only <font color=\"red\">one </font> group member should upload your group's solution. *Make sure to include group members' names and matriculation numbers*. If your name and student id are not included in the report, you will not receive any points!\n",
    "\n",
    "\n",
    "Hint 1: While answering the questions, you will get a better and better impression of the given data. However, feel free to compute additional results and vizualizations to motivate the decisions you need to make, for example with respect to modification, simplification or sampling of the data. <font color=\"red\"><b>Ensure that all claims you make are supported by the presented facts!</b></font>\n",
    "\n",
    "Hint 2: <font color=\"red\"><b>Some of the tasks might need some time to run. Take this into account in your planning.</b></font>\n",
    "\n",
    "Hint 3: RWTHonline allows for multiple submissions (each submission overwrites the previous ones). <font color=\"red\"><b>Partial submissions are possible and encouraged. </b></font> This helps in case of technical problems of RWTHonline, which do seldomly happen."
   ]
  },
  {
   "cell_type": "markdown",
   "metadata": {},
   "source": [
    "<font color=\"red\"><b>Student Names and IDs:\n",
    "    1. Jan Häusler, 330982\n",
    "    2. Philipp Heisenberger, 345594\n",
    "    3."
   ]
  },
  {
   "cell_type": "markdown",
   "metadata": {},
   "source": [
    "## Preprocessing of the Dataset (5 points)\n",
    " You should carry out some preprocessing steps before starting the analysis:\n",
    " - Select 90% of 'population_density' dataset by random sampling.\n",
    "     - Use one of the group member's student number as a seed.\n",
    " - Add another column to the dataset:\n",
    "     - Name it 'population_density_categorical'.\n",
    "     - The values in this column depend on values in 'population_density' column and will be defined as follows:\n",
    "        - 5824=<population density              corresponding value in 'population_density_categorical' column: 'very high'\n",
    "        - 4368=<population density<5824         corresponding value in 'population_density_categorical' column: 'high'\n",
    "        - 2912=<population density<4368         corresponding value in 'population_density_categorical' column: 'medium'\n",
    "        - 1456=<population density<2912         corresponding value in 'population_density_categorical' column: 'low' \n",
    "        - population density<1456               corresponding value in 'population_density_categorical' column: 'very low'\n",
    " - After completing this preprocessing step, export your final dataset as 'population_density_categorical.csv' dataset and use that for next steps of the assignment.\n",
    " - If it is not directly mentioned, you should always use your extracted (above-created) dataset (without any cleaning).\n",
    " - <font color='red'>Important!</font> Make sure that you submit your extracted dataset with your result in moodle."
   ]
  },
  {
   "cell_type": "code",
   "execution_count": 1,
   "metadata": {},
   "outputs": [],
   "source": [
    "import pandas as pd\n",
    "import seaborn as sns\n",
    "import matplotlib.pyplot as plt\n",
    "\n",
    "# read from disk\n",
    "data_non_sampled = pd.read_csv('population_density.csv')\n",
    "\n",
    "# sample 90% of rows, using student id as seed\n",
    "data_preprocessed = data_non_sampled.sample(frac=0.9, random_state=330982)\n",
    "\n",
    "# function to map population values to categories\n",
    "def density_to_category(row):\n",
    "    if row['population_density'] >= 5824:\n",
    "        return 'very high'\n",
    "    elif row['population_density'] >= 4368:\n",
    "        return 'high'\n",
    "    elif row['population_density'] >= 2912:\n",
    "        return 'medium'\n",
    "    elif row['population_density'] > 1456:\n",
    "        return 'low'\n",
    "    else:\n",
    "        return 'very low'\n",
    "\n",
    "# create new rows by applying function to each row\n",
    "data_preprocessed['population_density_categorical'] = data_preprocessed.apply(density_to_category, axis=1)\n",
    "\n",
    "# export to file\n",
    "data_preprocessed.to_csv('population_density_categorical.csv')"
   ]
  },
  {
   "cell_type": "markdown",
   "metadata": {},
   "source": [
    "## Question 1 - Insights into the Data (20 points):"
   ]
  },
  {
   "cell_type": "markdown",
   "metadata": {},
   "source": [
    "### Dealing with Outliers (10 points)\n",
    "   (a) Use a boxplot to find and remove the outliers from \"temperature\". Note that based on the boxplot the values greater than upper-whisker and less than lower-whisker are considered as the outliers. Now you should  have two datasets (cleaned and original)."
   ]
  },
  {
   "cell_type": "code",
   "execution_count": 2,
   "metadata": {},
   "outputs": [
    {
     "data": {
      "image/png": "[encoded data removed]",
      "text/plain": [
       "<Figure size 432x288 with 1 Axes>"
      ]
     },
     "metadata": {
      "needs_background": "light"
     },
     "output_type": "display_data"
    },
    {
     "data": {
      "image/png": "[encoded data removed]",
      "text/plain": [
       "<Figure size 432x288 with 1 Axes>"
      ]
     },
     "metadata": {
      "needs_background": "light"
     },
     "output_type": "display_data"
    },
    {
     "data": {
      "text/plain": [
       "<Figure size 432x288 with 0 Axes>"
      ]
     },
     "metadata": {},
     "output_type": "display_data"
    }
   ],
   "source": [
    "# create deep copy\n",
    "data = data_preprocessed.copy()\n",
    "#boxplot of original data\n",
    "bpTemp1 = plt.boxplot(data['temperature'])\n",
    "plt.title(\"Boxplot temperature with outliers\")\n",
    "plt.figure()\n",
    "# calculate first and third quartile\n",
    "q1 = data.quantile(q=0.25)['temperature']\n",
    "q3 = data.quantile(q=0.75)['temperature']\n",
    "\n",
    "# calculate the interquartile range\n",
    "iqr = 1.5*(q3-q1)\n",
    "\n",
    "# calculate values of whiskers\n",
    "upperWhisker = q3 + iqr\n",
    "lowerWhisker = q1 - iqr\n",
    "\n",
    "# select only rows which lie in whisker range, therefore eliminating outliers\n",
    "data_cleaned = data.loc[(data['temperature'] > lowerWhisker) & (data['temperature'] < upperWhisker) ]\n",
    "#boxplot of cleanded data\n",
    "bpTemp2 = plt.boxplot(data_cleaned['temperature'])\n",
    "plt.title(\"Boxplot temperature without outliers\")\n",
    "plt.figure()\n",
    "# assign dataset conforming to naming specification\n",
    "data_original = data\n"
   ]
  },
  {
   "cell_type": "markdown",
   "metadata": {},
   "source": [
    "   (b) Compare basic statistical features of \"temperature\" (median, mean, and mode) in the cleaned and original datasets.    Interpret the differences for these statistical values between the cleaned and original datasets. "
   ]
  },
  {
   "cell_type": "code",
   "execution_count": 3,
   "metadata": {},
   "outputs": [
    {
     "name": "stdout",
     "output_type": "stream",
     "text": [
      "Median of original data 282.46\n",
      "Median of cleaned data 282.47\n",
      "Mean of original data 281.19617444219364\n",
      "Mean of cleaned data 281.26100502605544\n",
      "Mode of original data 274.15\n",
      "Mode of cleaned data 274.15\n"
     ]
    }
   ],
   "source": [
    "print(\"Median of original data\",data_original.median()['temperature'])\n",
    "print(\"Median of cleaned data\", data_cleaned.median()['temperature'])\n",
    "print(\"Mean of original data\", data_original.mean()['temperature'])\n",
    "print(\"Mean of cleaned data\", data_cleaned.mean()['temperature'])\n",
    "print(\"Mode of original data\", data_original.mode()['temperature'][0])\n",
    "print(\"Mode of cleaned data\", data_cleaned.mode()['temperature'][0])"
   ]
  },
  {
   "cell_type": "markdown",
   "metadata": {},
   "source": [
    "Interpretation of the results: Since all of the outliers have a value of 0, and the rest of the data is greater than ~250, the median and mean shift in the positive direction for the cleaned dataset. The mode stays the same, as 274.15 seems to occur more than the amount of outliers."
   ]
  },
  {
   "cell_type": "markdown",
   "metadata": {},
   "source": [
    "   (c) Compare the number of data rows before and after removing the outliers. How many data rows are removed by removing    outliers?"
   ]
  },
  {
   "cell_type": "code",
   "execution_count": 4,
   "metadata": {},
   "outputs": [
    {
     "name": "stdout",
     "output_type": "stream",
     "text": [
      "Removed 100 rows beyond whiskers.\n"
     ]
    }
   ],
   "source": [
    "# calculate difference between original and cleaned dataset\n",
    "outlierDelta = data_original.size - data_cleaned.size\n",
    "\n",
    "# print it\n",
    "print(\"Removed {} rows beyond whiskers.\".format(outlierDelta))"
   ]
  },
  {
   "cell_type": "markdown",
   "metadata": {},
   "source": [
    "### Basic Visualization (10 points)\n",
    "   (d) Visualize mean and median of \"population_density\" for non-'None' \"holiday\" values in the original dataset. Specify    the \"holiday\" values for which the mean of \"population_density\" is maximal and for which it is minimal."
   ]
  },
  {
   "cell_type": "code",
   "execution_count": 11,
   "metadata": {},
   "outputs": [
    {
     "name": "stdout",
     "output_type": "stream",
     "text": [
      "Minimal population_density 519.4 on Columbus Day\n",
      "Maximal population_density 1356.0 on New Years Day\n"
     ]
    },
    {
     "data": {
      "text/plain": [
       "<matplotlib.axes._subplots.AxesSubplot at 0x7f6d873c0350>"
      ]
     },
     "execution_count": 11,
     "metadata": {},
     "output_type": "execute_result"
    },
    {
     "data": {
      "image/png": "[encoded data removed]",
      "text/plain": [
       "<Figure size 432x288 with 1 Axes>"
      ]
     },
     "metadata": {
      "needs_background": "light"
     },
     "output_type": "display_data"
    }
   ],
   "source": [
    "# include only holidays, group the series by holiday column, select population_density row\n",
    "# and calculate its means and medians\n",
    "holiday_population_densities = data_original.loc[data_original['holiday'] != 'None'].groupby('holiday')['population_density']\n",
    "holiday_means = holiday_population_densities.mean()\n",
    "holiday_means = holiday_means.sort_values()\n",
    "holiday_medians = holiday_population_densities.median()\n",
    "holiday_medians = holiday_medians.sort_values()\n",
    "\n",
    "# calculate means and map corresponding index\n",
    "minimumMean = holiday_means.min()\n",
    "minimumMeanHoliday = holiday_means[holiday_means == minimumMean].index[0]\n",
    "maximumMean = holiday_means.max()\n",
    "maximumMeanHoliday = holiday_means[holiday_means == maximumMean].index[0]\n",
    "\n",
    "# print results\n",
    "print(\"Minimal population_density {} on {}\".format(minimumMean, minimumMeanHoliday))\n",
    "print(\"Maximal population_density {} on {}\".format(maximumMean, maximumMeanHoliday))\n",
    "\n",
    "# bar plot medians and means\n",
    " \n",
    "holiday_medians.plot.bar()\n",
    "holiday_means.plot.bar()\n"
   ]
  },
  {
   "cell_type": "markdown",
   "metadata": {},
   "source": [
    "   (e) Plot the distribution of \"temperature\" in the original and cleaned datasets."
   ]
  },
  {
   "cell_type": "code",
   "execution_count": 15,
   "metadata": {},
   "outputs": [
    {
     "data": {
      "text/plain": [
       "<matplotlib.axes._subplots.AxesSubplot at 0x7f6d87673750>"
      ]
     },
     "execution_count": 15,
     "metadata": {},
     "output_type": "execute_result"
    },
    {
     "data": {
      "image/png": "[encoded data removed]",
      "text/plain": [
       "<Figure size 432x288 with 1 Axes>"
      ]
     },
     "metadata": {
      "needs_background": "light"
     },
     "output_type": "display_data"
    }
   ],
   "source": [
    "sns.distplot(data_original['temperature'])"
   ]
  },
  {
   "cell_type": "code",
   "execution_count": 16,
   "metadata": {},
   "outputs": [
    {
     "data": {
      "text/plain": [
       "<matplotlib.axes._subplots.AxesSubplot at 0x7f6d870835d0>"
      ]
     },
     "execution_count": 16,
     "metadata": {},
     "output_type": "execute_result"
    },
    {
     "data": {
      "image/png": "[encoded data removed]",
      "text/plain": [
       "<Figure size 432x288 with 1 Axes>"
      ]
     },
     "metadata": {
      "needs_background": "light"
     },
     "output_type": "display_data"
    }
   ],
   "source": [
    "sns.distplot(data_cleaned['temperature'])"
   ]
  },
  {
   "cell_type": "markdown",
   "metadata": {},
   "source": [
    "   (f) Explore the distribution of \"population_density\" and \"temperature\" together in the cleaned dataset. Specify the ranges of \"temperature\" and \"population_density\" for which the frequency of the data is the highest."
   ]
  },
  {
   "cell_type": "code",
   "execution_count": 9,
   "metadata": {},
   "outputs": [
    {
     "data": {
      "text/plain": [
       "<seaborn.axisgrid.JointGrid at 0x7f274b0c4b50>"
      ]
     },
     "execution_count": 9,
     "metadata": {},
     "output_type": "execute_result"
    },
    {
     "data": {
      "image/png": "[encoded data removed]",
      "text/plain": [
       "<Figure size 432x432 with 3 Axes>"
      ]
     },
     "metadata": {
      "needs_background": "light"
     },
     "output_type": "display_data"
    }
   ],
   "source": [
    "sns.jointplot(data_cleaned['temperature'], data_cleaned['population_density'], kind=\"kde\")"
   ]
  },
  {
   "cell_type": "markdown",
   "metadata": {},
   "source": [
    "Ranges for which the frequency is the highest: We can find 6 local high density accumulations from the jointplot, rough estimates in the form (temperature, population density):\n",
    "\n",
    "```\n",
    "(273, 4800) (290, 4800)  \n",
    "(273, 2800) (290, 2800)  \n",
    "(273, 350 ) (290, 350 )  \n",
    "```"
   ]
  },
  {
   "cell_type": "markdown",
   "metadata": {},
   "source": [
    "## Question 2 - Decision Trees (15 points):"
   ]
  },
  {
   "cell_type": "markdown",
   "metadata": {},
   "source": [
    "   (a) Add a categorical temperature column to the cleaned dataset based on the following rules and name it                \"temperature_categorical\":\n",
    "        - temperature >= upper_quartile (third quartile) corresponding value in 'temperature_categorical' column: 'high'\n",
    "        - temperature <= lower_quartile (first quartile) corresponding value in 'temperature_categorical' column: 'low'\n",
    "        - lower_quartile < temperature < upper_quartile corresponding value in 'temperature_categorical' column: 'medium'"
   ]
  },
  {
   "cell_type": "code",
   "execution_count": 13,
   "metadata": {},
   "outputs": [],
   "source": [
    "# deep copy as to not affect dataset outside of this question\n",
    "data = data_cleaned.copy()\n",
    "\n",
    "# function to map temperature values to categories\n",
    "def temperature_to_category(row):\n",
    "    global q1\n",
    "    global q3\n",
    "    if row['temperature'] >= q3:\n",
    "        return 'high'\n",
    "    elif row['temperature'] <= q1:\n",
    "        return 'low'\n",
    "    else:\n",
    "        return 'medium'\n",
    "\n",
    "# create new rows by applying function to each row\n",
    "data['temperature_categorical'] = data.apply(temperature_to_category, axis=1)"
   ]
  },
  {
   "cell_type": "markdown",
   "metadata": {},
   "source": [
    "   (b) In the new dataset (created in Section 'a'), consider \"holiday\", \"temperature_categorical\", and \"weather_type\" as    the descriptive features and \"population_density_categorical\" as the target feature. Set the minimum number of samples  for splitting to 5000 and make a decision tree based on entropy."
   ]
  },
  {
   "cell_type": "code",
   "execution_count": 14,
   "metadata": {},
   "outputs": [],
   "source": [
    "from p_decision_tree.DecisionTree import DecisionTree\n",
    "\n",
    "columns = data.columns\n",
    "\n",
    "descriptive_features = [\"holiday\", \"temperature_categorical\", \"weather_type\"]\n",
    "label = \"population_density_categorical\"\n",
    "\n",
    "# converting all the columns to string\n",
    "for column in columns:\n",
    "    data[column]= data[column].astype(str)\n",
    "\n",
    "data_descriptive = data[descriptive_features].values\n",
    "data_label = data[label].values"
   ]
  },
  {
   "cell_type": "code",
   "execution_count": 15,
   "metadata": {},
   "outputs": [
    {
     "name": "stdout",
     "output_type": "stream",
     "text": [
      "System entropy:  2.2315737608512087\n",
      "System gini:  None\n"
     ]
    }
   ],
   "source": [
    "# initialize decision tree\n",
    "decisionTree = DecisionTree(data_descriptive.tolist(),\n",
    "                            descriptive_features,\n",
    "                            data_label.tolist(), \"entropy\")\n",
    "\n",
    "# run id3 algorithm and split at a minimum of 5k samples\n",
    "decisionTree.id3(0, 5000)\n",
    "\n",
    "# visualizing decision tree with graphviz\n",
    "#dot = decisionTree.print_visualTree( render=True )\n",
    "\n",
    "print(\"System entropy: \", format(decisionTree.entropy))\n",
    "print(\"System gini: \", format(decisionTree.gini))"
   ]
  },
  {
   "cell_type": "markdown",
   "metadata": {},
   "source": [
    "   (c) What is the best attribute (based on entropy) for splitting the tree in the second round of ID3?  "
   ]
  },
  {
   "cell_type": "code",
   "execution_count": 20,
   "metadata": {},
   "outputs": [
    {
     "name": "stdout",
     "output_type": "stream",
     "text": [
      "Extracting information gain for each attribute...\n",
      "information gains:   [0.00215765849629778, 0.022688461143788197, 0.01864098625303649]\n",
      "corresponding names: ['holiday', 'temperature_categorical', 'weather_type']\n"
     ]
    }
   ],
   "source": [
    "sampleIds = [x for x in range(len(data_descriptive.tolist()))]\n",
    "attributeIds = [x for x in range(len(descriptive_features))]\n",
    "\n",
    "print(\"Extracting information gain for each attribute...\")\n",
    "attributesEntropy = [0] * len(attributeIds)\n",
    "for i, attId in zip(range(len(attributeIds)), attributeIds):\n",
    "    attributesEntropy[i] = decisionTree.getInformationGain(sampleIds, attId)\n",
    "print(\"information gains:  \", attributesEntropy)\n",
    "print(\"corresponding names:\", decisionTree.attributes)"
   ]
  },
  {
   "cell_type": "markdown",
   "metadata": {},
   "source": [
    "Explanation: Looking at the resulting array of information gains for each descriptive feature, we can see that the second highest value is to be found for 'weather_type', therefore this attribute is used for splitting the tree in the second round.\n"
   ]
  },
  {
   "cell_type": "markdown",
   "metadata": {},
   "source": [
    "## Question 3 - Regression (10 points):\n",
    "\n",
    "For this question (Q3), restrict your extracted data set to the columns *holiday, temperature, rain_1h, snow_1h, clouds_percentage, date_time* and *population_density*. Drop the information on the date for *date_time* and restrict the data to time values (hour) only.\n",
    "\n",
    "We define *population_density* to be our target feature, while all other features are considered descriptive."
   ]
  },
  {
   "cell_type": "code",
   "execution_count": 21,
   "metadata": {},
   "outputs": [],
   "source": [
    "# TODO: what are they referring to with \"extracted dataset\"?\n",
    "data = data_preprocessed.copy()\n",
    "\n",
    "# drop unwanted rows\n",
    "data = data.drop(columns=['weather_type', 'weather_type_details', 'population_density_categorical'])\n",
    "def convert_to_hour(date):\n",
    "    # works for this dataset, since all dates have the\n",
    "    # same format of MM/dd/yyyy hh:mm\n",
    "    return int(date.split(\" \")[1].split(\":\")[0])\n",
    "data['date_time'] = data['date_time'].apply(convert_to_hour)"
   ]
  },
  {
   "cell_type": "markdown",
   "metadata": {},
   "source": [
    "   (a) Which features are suitable as an input for linear regression and which need to be modified first? Why?"
   ]
  },
  {
   "cell_type": "markdown",
   "metadata": {},
   "source": [
    "The `holiday` feature needs to encoded since its categorical and regression can only operate on numerical inputs to fit a regression. Since all other are numerical they are immediately suitable as inputs."
   ]
  },
  {
   "cell_type": "markdown",
   "metadata": {},
   "source": [
    "   (b) Implement and briefly motivate an adequate modification. Print the resulting data set limited to the first two data rows."
   ]
  },
  {
   "cell_type": "markdown",
   "metadata": {},
   "source": [
    "We use label encoding, because TODO: WHY?"
   ]
  },
  {
   "cell_type": "code",
   "execution_count": 22,
   "metadata": {},
   "outputs": [
    {
     "name": "stdout",
     "output_type": "stream",
     "text": [
      "holiday mapping:\n",
      "Index(['Christmas Day', 'Columbus Day', 'Independence Day', 'Labor Day',\n",
      "       'Martin Luther King Jr Day', 'Memorial Day', 'New Years Day', 'None',\n",
      "       'State Fair', 'Thanksgiving Day', 'Veterans Day',\n",
      "       'Washingtons Birthday'],\n",
      "      dtype='object')\n"
     ]
    }
   ],
   "source": [
    "data[\"holiday\"] = data[\"holiday\"].astype(\"category\")\n",
    "print(\"holiday mapping:\")\n",
    "print(data[\"holiday\"].cat.categories)\n",
    "\n",
    "# convert all categorical columns to their codes\n",
    "cat_columns = data.select_dtypes(['category']).columns\n",
    "data[cat_columns] = data[cat_columns].apply(lambda x: x.cat.codes)\n",
    "\n",
    "# one-hot encoding\n",
    "#one_hot_holidays = pd.get_dummies(data['holiday'],prefix=\"holiday\")\n",
    "#data = pd.concat([data, one_hot_holidays], axis=1)\n",
    "#data.drop(['holiday'],axis=1, inplace=True)\n",
    "#print(data.loc[data['holiday'] != 7])"
   ]
  },
  {
   "cell_type": "markdown",
   "metadata": {},
   "source": [
    "(c) To get a first idea about our data, plot the behaviour of the target feature (population_density) over time (date_time)."
   ]
  },
  {
   "cell_type": "code",
   "execution_count": 23,
   "metadata": {},
   "outputs": [
    {
     "data": {
      "text/plain": [
       "<matplotlib.axes._subplots.AxesSubplot at 0x7f6d8701d8d0>"
      ]
     },
     "execution_count": 23,
     "metadata": {},
     "output_type": "execute_result"
    },
    {
     "data": {
      "image/png": "[encoded data removed]",
      "text/plain": [
       "<Figure size 1440x360 with 1 Axes>"
      ]
     },
     "metadata": {
      "needs_background": "light"
     },
     "output_type": "display_data"
    }
   ],
   "source": [
    "plt.rcParams['agg.path.chunksize'] = 10000\n",
    "data.plot.scatter(x='date_time', y='population_density', figsize=(20, 5))"
   ]
  },
  {
   "cell_type": "markdown",
   "metadata": {},
   "source": [
    "   (d) Create two distinct subsets of the data. Use sampling methods as described in the lecture. You should end up with two DIFFERENT sample data sets *RegA, RegB*. Include these data sets in the submitted data set zip file. \n",
    "   \n",
    "   Which sampling methods did you choose and why? Which one do you expect to result in a better classifier?"
   ]
  },
  {
   "cell_type": "code",
   "execution_count": 26,
   "metadata": {},
   "outputs": [
    {
     "name": "stderr",
     "output_type": "stream",
     "text": [
      "/home/heisenB/miniconda3/envs/ds/lib/python3.7/site-packages/ipykernel_launcher.py:22: SettingWithCopyWarning: \n",
      "A value is trying to be set on a copy of a slice from a DataFrame.\n",
      "Try using .loc[row_indexer,col_indexer] = value instead\n",
      "\n",
      "See the caveats in the documentation: http://pandas.pydata.org/pandas-docs/stable/indexing.html#indexing-view-versus-copy\n"
     ]
    },
    {
     "data": {
      "text/plain": [
       "<matplotlib.axes._subplots.AxesSubplot at 0x7f6d87774490>"
      ]
     },
     "execution_count": 26,
     "metadata": {},
     "output_type": "execute_result"
    },
    {
     "data": {
      "image/png": "[encoded data removed]",
      "text/plain": [
       "<Figure size 1440x360 with 1 Axes>"
      ]
     },
     "metadata": {
      "needs_background": "light"
     },
     "output_type": "display_data"
    },
    {
     "data": {
      "image/png": "[encoded data removed]",
      "text/plain": [
       "<Figure size 1440x360 with 1 Axes>"
      ]
     },
     "metadata": {
      "needs_background": "light"
     },
     "output_type": "display_data"
    }
   ],
   "source": [
    "# Your code:\n",
    "\n",
    "RegA = data.loc[(data['date_time'] > 3) & (data['date_time'] <= 16)]\n",
    "RegB = data.loc[(data['date_time'] <= 3) | (data['date_time'] > 16)]\n",
    "\n",
    "RegA.to_csv('date_time_3_to_16.csv')\n",
    "RegB.to_csv('date_time_16_to_3.csv')\n",
    "#RegA = data.loc[(data['temperature'] > 282.46)]\n",
    "#RegB = data.loc[(data['temperature'] <= 282.46)]\n",
    "#RegA = data.loc[(data['clouds_percentage'] > 64)]\n",
    "#RegB = data.loc[(data['clouds_percentage'] <= 64)]\n",
    "\n",
    "#RegB.corr()\n",
    "\n",
    "\n",
    "RegA.plot.scatter(x='date_time', y='population_density', figsize=(20, 5))\n",
    "def move_x_axis(value):\n",
    "    if value <= 3:\n",
    "        return value\n",
    "    else:\n",
    "        return 0-(24-value)\n",
    "RegB['date_time'] = RegB['date_time'].apply(move_x_axis)\n",
    "RegB.plot.scatter(x='date_time', y='population_density', figsize=(20, 5))"
   ]
  },
  {
   "cell_type": "markdown",
   "metadata": {},
   "source": [
    "Explanation:\n",
    "TODO\n",
    "We chose to split the data on the time values. This is because we than can show to clean trends: one showing the increasing amount of population_density, the other showing the declining amount. "
   ]
  },
  {
   "cell_type": "code",
   "execution_count": null,
   "metadata": {},
   "outputs": [],
   "source": [
    "#Creating lable and feature data columns\n",
    "#data = pd.concat([data,pd.get_dummies(data['holiday'],dummy_na=True)],axis=1)\n",
    "#data.drop(['holiday'],axis=1, inplace=True)\n",
    "#data=data.loc[:, data.columns != 'holiday']\n",
    "#X=data.loc[:, data.columns != 'population_density']\n",
    "#y=data['population_density']\n",
    "#from sklearn.model_selection import train_test_split\n",
    "#X_train,X_test,y_train,y_test=train_test_split(X,y, test_size=0.10, random_state=0)\n",
    "#print(X_train.shape)\n",
    "#print(X_test.shape)\n",
    "#print(y_train.shape)\n",
    "#print(y_test.shape)\n",
    "#print(X_test)\n",
    "\n"
   ]
  },
  {
   "cell_type": "code",
   "execution_count": null,
   "metadata": {},
   "outputs": [],
   "source": [
    "#x_train, x_test, y_train, y_test=train_test_split(data['date_time'], data['population_density'], test_size=0.10, random_state=0)"
   ]
  },
  {
   "cell_type": "markdown",
   "metadata": {},
   "source": [
    "   (e) Train a linear regression classifier based on each of the two sample data sets *RegA, RegB* created before."
   ]
  },
  {
   "cell_type": "code",
   "execution_count": 30,
   "metadata": {},
   "outputs": [],
   "source": [
    "# Your code:\n",
    "from sklearn.linear_model import LinearRegression\n",
    "\n",
    "# train the classifiers'\n",
    "# XA should only have one column, at least exercise just uses one\n",
    "XA = RegA.drop(columns=['population_density'])\n",
    "modelA = LinearRegression().fit(XA, RegA['population_density'])\n",
    "XB = RegB.drop(columns=['population_density'])\n",
    "modelB = LinearRegression().fit(XB, RegB['population_density'])\n",
    "\n",
    "# use the trained classifier to make prediction\n",
    "y_predA = modelA.predict(XA)\n",
    "y_predB = modelB.predict(XB)"
   ]
  },
  {
   "cell_type": "markdown",
   "metadata": {},
   "source": [
    "(f) Visualize both computed regression functions in one plot each, combined with the original data set. For example, you can show a plot similar to 3(c) and insert the regression functions result."
   ]
  },
  {
   "cell_type": "code",
   "execution_count": 31,
   "metadata": {},
   "outputs": [
    {
     "data": {
      "image/png": "[encoded data removed]",
      "text/plain": [
       "<Figure size 432x288 with 1 Axes>"
      ]
     },
     "metadata": {
      "needs_background": "light"
     },
     "output_type": "display_data"
    },
    {
     "data": {
      "image/png": "[encoded data removed]",
      "text/plain": [
       "<Figure size 432x288 with 1 Axes>"
      ]
     },
     "metadata": {
      "needs_background": "light"
     },
     "output_type": "display_data"
    }
   ],
   "source": [
    "# visualize original data points\n",
    "plt.scatter(RegA[['date_time']], RegA[['population_density']], marker = \"s\", s = 1) \n",
    "\n",
    "# visualize regression function\n",
    "plt.scatter(XA['date_time'], y_predA, color=\"g\", s = 10) \n",
    "plt.xlabel('hour') \n",
    "plt.ylabel('population_density') \n",
    "plt.title('Regression Function')\n",
    "plt.show()\n",
    "\n",
    "# visualize original data points\n",
    "plt.scatter(RegB[['date_time']], RegB[['population_density']], marker = \"s\", s = 1) \n",
    "\n",
    "# visualize regression function\n",
    "plt.scatter(XB['date_time'], y_predB, color=\"g\", s = 10) \n",
    "plt.xlabel('hour') \n",
    "plt.ylabel('population_density') \n",
    "plt.title('Regression Function')\n",
    "plt.show()\n",
    "\n",
    "# TODO: description"
   ]
  },
  {
   "cell_type": "markdown",
   "metadata": {},
   "source": [
    "   (g) For each of the two resulting models compute and print the mean squared error, mean absolute error and median squared error with respect to the original, non-sampled data set. Also, present plots showing the errors and squared errors."
   ]
  },
  {
   "cell_type": "code",
   "execution_count": 32,
   "metadata": {},
   "outputs": [
    {
     "name": "stdout",
     "output_type": "stream",
     "text": [
      "Mean squared error for RegA:\n",
      "2073008.954533398\n",
      "Mean absolute error for RegA:\n",
      "1102.268426627456\n",
      "[3389.66093581 5670.03746365 4152.87018942 ... 3771.42013709 2597.15135932\n",
      " 3027.27579702]\n"
     ]
    },
    {
     "data": {
      "image/png": "[encoded data removed]",
      "text/plain": [
       "<Figure size 432x288 with 1 Axes>"
      ]
     },
     "metadata": {
      "needs_background": "light"
     },
     "output_type": "display_data"
    },
    {
     "data": {
      "image/png": "[encoded data removed]",
      "text/plain": [
       "<Figure size 432x288 with 1 Axes>"
      ]
     },
     "metadata": {
      "needs_background": "light"
     },
     "output_type": "display_data"
    },
    {
     "name": "stdout",
     "output_type": "stream",
     "text": [
      "Mean squared error for RegB:\n",
      "401413.58448984026\n",
      "Mean absolute error for RegB:\n",
      "491.79764933198663\n",
      "[3628.91989147 4071.23190352 1117.65054891 ... 1241.81204764 1276.48981104\n",
      " 4165.24585762]\n"
     ]
    },
    {
     "data": {
      "image/png": "[encoded data removed]",
      "text/plain": [
       "<Figure size 432x288 with 1 Axes>"
      ]
     },
     "metadata": {
      "needs_background": "light"
     },
     "output_type": "display_data"
    },
    {
     "data": {
      "image/png": "[encoded data removed]",
      "text/plain": [
       "<Figure size 432x288 with 1 Axes>"
      ]
     },
     "metadata": {
      "needs_background": "light"
     },
     "output_type": "display_data"
    }
   ],
   "source": [
    "from sklearn.metrics import mean_squared_error, mean_absolute_error\n",
    "\n",
    "# TODO: \"with respect to the original, non-sampled data set\"?!\n",
    "# TODO: median squared error\n",
    "\n",
    "print(\"Mean squared error for RegA:\")\n",
    "print(mean_squared_error(RegA['population_density'], y_predA))\n",
    "print(\"Mean absolute error for RegA:\")\n",
    "print(mean_absolute_error(RegA['population_density'], y_predA))\n",
    "\n",
    "print(y_predA)\n",
    "\n",
    "plt.scatter(y_predA.ravel(), (RegA['population_density'] - y_predA.ravel()) ** 2, color = \"blue\", s = 10,) \n",
    "plt.title(\"squared errors for RegA\")\n",
    "plt.xlabel('predicted values')\n",
    "plt.ylabel('squared error')\n",
    "plt.show()\n",
    "\n",
    "plt.scatter(y_predA.ravel(), (RegA['population_density'] - y_predA.ravel()), color = \"blue\", s = 10,) \n",
    "plt.hlines(y = 0, xmin = 2500, xmax = 6000, linewidth = 1) \n",
    "plt.title(\"absolute errors for RegA\")\n",
    "plt.xlabel('predicted values')\n",
    "plt.ylabel('absolute error')\n",
    "plt.show()\n",
    "\n",
    "print(\"Mean squared error for RegB:\")\n",
    "print(mean_squared_error(RegB['population_density'], y_predB))\n",
    "print(\"Mean absolute error for RegB:\")\n",
    "print(mean_absolute_error(RegB['population_density'], y_predB))\n",
    "\n",
    "print(y_predB)\n",
    "\n",
    "plt.scatter(y_predB.ravel(), (RegB['population_density'] - y_predB.ravel()) ** 2, color = \"blue\", s = 10,) \n",
    "plt.title(\"squared errors for RegB\")\n",
    "plt.xlabel('predicted values')\n",
    "plt.ylabel('squared error')\n",
    "plt.show()\n",
    "\n",
    "plt.scatter(y_predB.ravel(), (RegB['population_density'] - y_predB.ravel()), color = \"blue\", s = 10,) \n",
    "plt.hlines(y = 0, xmin = 0, xmax = 5000, linewidth = 1) \n",
    "plt.title(\"absolute errors for RegB\")\n",
    "plt.xlabel('predicted values')\n",
    "plt.ylabel('absolute error')\n",
    "plt.show()"
   ]
  },
  {
   "cell_type": "markdown",
   "metadata": {},
   "source": [
    "   (h) Interpret and evaluate the two models and compare them. Why are they similar/different? Which model do you recommend and why? How do you think the applied methods could be improved to get better results?"
   ]
  },
  {
   "cell_type": "markdown",
   "metadata": {},
   "source": [
    "Explanation: "
   ]
  },
  {
   "cell_type": "markdown",
   "metadata": {},
   "source": [
    "## Question 4 - Support Vector Machines (10 points):\n",
    "\n",
    "For this question (Q4), restrict your extracted data set to the columns *holiday, temperature, rain_1h, snow_1h, clouds_percentage, date_time* and *population_density_categorical*. For *date_time*, drop the information on the date and restrict the data to time values only.\n",
    "We define *population_density_categorical* to be our target feature, while all other features are considered descriptive.\n"
   ]
  },
  {
   "cell_type": "code",
   "execution_count": 27,
   "metadata": {},
   "outputs": [],
   "source": [
    "# TODO: what are they referring to with \"extracted dataset\"?\n",
    "data = data_preprocessed.copy()\n",
    "\n",
    "# drop unwanted columns\n",
    "data = data.drop(columns=['weather_type', 'weather_type_details', 'population_density'])\n",
    "\n",
    "def drop_date(date):\n",
    "    # works for this dataset, since all dates have the\n",
    "    # same format of MM/dd/yyyy hh:mm\n",
    "    return int(date.split(\" \")[1].split(\":\")[0])\n",
    "data['date_time'] = data['date_time'].apply(drop_date)"
   ]
  },
  {
   "cell_type": "markdown",
   "metadata": {},
   "source": [
    "   (a) Which features are suitable as an input for SVM and which need to be modified first? Modify the data as needed and provide a brief explanation."
   ]
  },
  {
   "cell_type": "code",
   "execution_count": 28,
   "metadata": {},
   "outputs": [
    {
     "data": {
      "text/html": [
       "<div>\n",
       "<style scoped>\n",
       "    .dataframe tbody tr th:only-of-type {\n",
       "        vertical-align: middle;\n",
       "    }\n",
       "\n",
       "    .dataframe tbody tr th {\n",
       "        vertical-align: top;\n",
       "    }\n",
       "\n",
       "    .dataframe thead th {\n",
       "        text-align: right;\n",
       "    }\n",
       "</style>\n",
       "<table border=\"1\" class=\"dataframe\">\n",
       "  <thead>\n",
       "    <tr style=\"text-align: right;\">\n",
       "      <th></th>\n",
       "      <th>temperature</th>\n",
       "      <th>rain_1h</th>\n",
       "      <th>snow_1h</th>\n",
       "      <th>clouds_percentage</th>\n",
       "      <th>date_time</th>\n",
       "      <th>population_density_categorical</th>\n",
       "      <th>holiday_Christmas Day</th>\n",
       "      <th>holiday_Columbus Day</th>\n",
       "      <th>holiday_Independence Day</th>\n",
       "      <th>holiday_Labor Day</th>\n",
       "      <th>holiday_Martin Luther King Jr Day</th>\n",
       "      <th>holiday_Memorial Day</th>\n",
       "      <th>holiday_New Years Day</th>\n",
       "      <th>holiday_None</th>\n",
       "      <th>holiday_State Fair</th>\n",
       "      <th>holiday_Thanksgiving Day</th>\n",
       "      <th>holiday_Veterans Day</th>\n",
       "      <th>holiday_Washingtons Birthday</th>\n",
       "    </tr>\n",
       "  </thead>\n",
       "  <tbody>\n",
       "    <tr>\n",
       "      <th>18833</th>\n",
       "      <td>276.110</td>\n",
       "      <td>0.00</td>\n",
       "      <td>0.0</td>\n",
       "      <td>1</td>\n",
       "      <td>7</td>\n",
       "      <td>very high</td>\n",
       "      <td>0</td>\n",
       "      <td>0</td>\n",
       "      <td>0</td>\n",
       "      <td>0</td>\n",
       "      <td>0</td>\n",
       "      <td>0</td>\n",
       "      <td>0</td>\n",
       "      <td>1</td>\n",
       "      <td>0</td>\n",
       "      <td>0</td>\n",
       "      <td>0</td>\n",
       "      <td>0</td>\n",
       "    </tr>\n",
       "    <tr>\n",
       "      <th>44432</th>\n",
       "      <td>303.070</td>\n",
       "      <td>0.00</td>\n",
       "      <td>0.0</td>\n",
       "      <td>75</td>\n",
       "      <td>15</td>\n",
       "      <td>medium</td>\n",
       "      <td>0</td>\n",
       "      <td>0</td>\n",
       "      <td>0</td>\n",
       "      <td>0</td>\n",
       "      <td>0</td>\n",
       "      <td>0</td>\n",
       "      <td>0</td>\n",
       "      <td>1</td>\n",
       "      <td>0</td>\n",
       "      <td>0</td>\n",
       "      <td>0</td>\n",
       "      <td>0</td>\n",
       "    </tr>\n",
       "    <tr>\n",
       "      <th>41904</th>\n",
       "      <td>270.670</td>\n",
       "      <td>0.00</td>\n",
       "      <td>0.0</td>\n",
       "      <td>1</td>\n",
       "      <td>10</td>\n",
       "      <td>medium</td>\n",
       "      <td>0</td>\n",
       "      <td>0</td>\n",
       "      <td>0</td>\n",
       "      <td>0</td>\n",
       "      <td>0</td>\n",
       "      <td>0</td>\n",
       "      <td>0</td>\n",
       "      <td>1</td>\n",
       "      <td>0</td>\n",
       "      <td>0</td>\n",
       "      <td>0</td>\n",
       "      <td>0</td>\n",
       "    </tr>\n",
       "    <tr>\n",
       "      <th>4682</th>\n",
       "      <td>277.210</td>\n",
       "      <td>0.00</td>\n",
       "      <td>0.0</td>\n",
       "      <td>90</td>\n",
       "      <td>10</td>\n",
       "      <td>medium</td>\n",
       "      <td>0</td>\n",
       "      <td>0</td>\n",
       "      <td>0</td>\n",
       "      <td>0</td>\n",
       "      <td>0</td>\n",
       "      <td>0</td>\n",
       "      <td>0</td>\n",
       "      <td>1</td>\n",
       "      <td>0</td>\n",
       "      <td>0</td>\n",
       "      <td>0</td>\n",
       "      <td>0</td>\n",
       "    </tr>\n",
       "    <tr>\n",
       "      <th>48199</th>\n",
       "      <td>283.450</td>\n",
       "      <td>0.00</td>\n",
       "      <td>0.0</td>\n",
       "      <td>75</td>\n",
       "      <td>19</td>\n",
       "      <td>medium</td>\n",
       "      <td>0</td>\n",
       "      <td>0</td>\n",
       "      <td>0</td>\n",
       "      <td>0</td>\n",
       "      <td>0</td>\n",
       "      <td>0</td>\n",
       "      <td>0</td>\n",
       "      <td>1</td>\n",
       "      <td>0</td>\n",
       "      <td>0</td>\n",
       "      <td>0</td>\n",
       "      <td>0</td>\n",
       "    </tr>\n",
       "    <tr>\n",
       "      <th>30239</th>\n",
       "      <td>276.080</td>\n",
       "      <td>0.00</td>\n",
       "      <td>0.0</td>\n",
       "      <td>75</td>\n",
       "      <td>18</td>\n",
       "      <td>high</td>\n",
       "      <td>0</td>\n",
       "      <td>0</td>\n",
       "      <td>0</td>\n",
       "      <td>0</td>\n",
       "      <td>0</td>\n",
       "      <td>0</td>\n",
       "      <td>0</td>\n",
       "      <td>1</td>\n",
       "      <td>0</td>\n",
       "      <td>0</td>\n",
       "      <td>0</td>\n",
       "      <td>0</td>\n",
       "    </tr>\n",
       "    <tr>\n",
       "      <th>1473</th>\n",
       "      <td>271.250</td>\n",
       "      <td>0.00</td>\n",
       "      <td>0.0</td>\n",
       "      <td>90</td>\n",
       "      <td>0</td>\n",
       "      <td>very low</td>\n",
       "      <td>0</td>\n",
       "      <td>0</td>\n",
       "      <td>0</td>\n",
       "      <td>0</td>\n",
       "      <td>0</td>\n",
       "      <td>0</td>\n",
       "      <td>0</td>\n",
       "      <td>1</td>\n",
       "      <td>0</td>\n",
       "      <td>0</td>\n",
       "      <td>0</td>\n",
       "      <td>0</td>\n",
       "    </tr>\n",
       "    <tr>\n",
       "      <th>24023</th>\n",
       "      <td>290.800</td>\n",
       "      <td>0.00</td>\n",
       "      <td>0.0</td>\n",
       "      <td>40</td>\n",
       "      <td>21</td>\n",
       "      <td>low</td>\n",
       "      <td>0</td>\n",
       "      <td>0</td>\n",
       "      <td>0</td>\n",
       "      <td>0</td>\n",
       "      <td>0</td>\n",
       "      <td>0</td>\n",
       "      <td>0</td>\n",
       "      <td>1</td>\n",
       "      <td>0</td>\n",
       "      <td>0</td>\n",
       "      <td>0</td>\n",
       "      <td>0</td>\n",
       "    </tr>\n",
       "    <tr>\n",
       "      <th>38013</th>\n",
       "      <td>279.750</td>\n",
       "      <td>0.00</td>\n",
       "      <td>0.0</td>\n",
       "      <td>75</td>\n",
       "      <td>8</td>\n",
       "      <td>medium</td>\n",
       "      <td>0</td>\n",
       "      <td>0</td>\n",
       "      <td>0</td>\n",
       "      <td>0</td>\n",
       "      <td>0</td>\n",
       "      <td>0</td>\n",
       "      <td>0</td>\n",
       "      <td>1</td>\n",
       "      <td>0</td>\n",
       "      <td>0</td>\n",
       "      <td>0</td>\n",
       "      <td>0</td>\n",
       "    </tr>\n",
       "    <tr>\n",
       "      <th>44026</th>\n",
       "      <td>288.500</td>\n",
       "      <td>0.00</td>\n",
       "      <td>0.0</td>\n",
       "      <td>90</td>\n",
       "      <td>13</td>\n",
       "      <td>high</td>\n",
       "      <td>0</td>\n",
       "      <td>0</td>\n",
       "      <td>0</td>\n",
       "      <td>0</td>\n",
       "      <td>0</td>\n",
       "      <td>0</td>\n",
       "      <td>0</td>\n",
       "      <td>1</td>\n",
       "      <td>0</td>\n",
       "      <td>0</td>\n",
       "      <td>0</td>\n",
       "      <td>0</td>\n",
       "    </tr>\n",
       "    <tr>\n",
       "      <th>9279</th>\n",
       "      <td>286.880</td>\n",
       "      <td>0.00</td>\n",
       "      <td>0.0</td>\n",
       "      <td>90</td>\n",
       "      <td>5</td>\n",
       "      <td>very low</td>\n",
       "      <td>0</td>\n",
       "      <td>0</td>\n",
       "      <td>0</td>\n",
       "      <td>0</td>\n",
       "      <td>0</td>\n",
       "      <td>0</td>\n",
       "      <td>0</td>\n",
       "      <td>1</td>\n",
       "      <td>0</td>\n",
       "      <td>0</td>\n",
       "      <td>0</td>\n",
       "      <td>0</td>\n",
       "    </tr>\n",
       "    <tr>\n",
       "      <th>292</th>\n",
       "      <td>284.030</td>\n",
       "      <td>0.00</td>\n",
       "      <td>0.0</td>\n",
       "      <td>93</td>\n",
       "      <td>20</td>\n",
       "      <td>low</td>\n",
       "      <td>0</td>\n",
       "      <td>0</td>\n",
       "      <td>0</td>\n",
       "      <td>0</td>\n",
       "      <td>0</td>\n",
       "      <td>0</td>\n",
       "      <td>0</td>\n",
       "      <td>1</td>\n",
       "      <td>0</td>\n",
       "      <td>0</td>\n",
       "      <td>0</td>\n",
       "      <td>0</td>\n",
       "    </tr>\n",
       "    <tr>\n",
       "      <th>1778</th>\n",
       "      <td>278.490</td>\n",
       "      <td>0.00</td>\n",
       "      <td>0.0</td>\n",
       "      <td>40</td>\n",
       "      <td>13</td>\n",
       "      <td>high</td>\n",
       "      <td>0</td>\n",
       "      <td>0</td>\n",
       "      <td>0</td>\n",
       "      <td>0</td>\n",
       "      <td>0</td>\n",
       "      <td>0</td>\n",
       "      <td>0</td>\n",
       "      <td>1</td>\n",
       "      <td>0</td>\n",
       "      <td>0</td>\n",
       "      <td>0</td>\n",
       "      <td>0</td>\n",
       "    </tr>\n",
       "    <tr>\n",
       "      <th>44465</th>\n",
       "      <td>299.070</td>\n",
       "      <td>0.00</td>\n",
       "      <td>0.0</td>\n",
       "      <td>1</td>\n",
       "      <td>21</td>\n",
       "      <td>low</td>\n",
       "      <td>0</td>\n",
       "      <td>0</td>\n",
       "      <td>0</td>\n",
       "      <td>0</td>\n",
       "      <td>0</td>\n",
       "      <td>0</td>\n",
       "      <td>0</td>\n",
       "      <td>1</td>\n",
       "      <td>0</td>\n",
       "      <td>0</td>\n",
       "      <td>0</td>\n",
       "      <td>0</td>\n",
       "    </tr>\n",
       "    <tr>\n",
       "      <th>6533</th>\n",
       "      <td>295.460</td>\n",
       "      <td>0.00</td>\n",
       "      <td>0.0</td>\n",
       "      <td>40</td>\n",
       "      <td>19</td>\n",
       "      <td>medium</td>\n",
       "      <td>0</td>\n",
       "      <td>0</td>\n",
       "      <td>0</td>\n",
       "      <td>0</td>\n",
       "      <td>0</td>\n",
       "      <td>0</td>\n",
       "      <td>0</td>\n",
       "      <td>1</td>\n",
       "      <td>0</td>\n",
       "      <td>0</td>\n",
       "      <td>0</td>\n",
       "      <td>0</td>\n",
       "    </tr>\n",
       "    <tr>\n",
       "      <th>21059</th>\n",
       "      <td>256.940</td>\n",
       "      <td>0.00</td>\n",
       "      <td>0.0</td>\n",
       "      <td>75</td>\n",
       "      <td>7</td>\n",
       "      <td>very high</td>\n",
       "      <td>0</td>\n",
       "      <td>0</td>\n",
       "      <td>0</td>\n",
       "      <td>0</td>\n",
       "      <td>0</td>\n",
       "      <td>0</td>\n",
       "      <td>0</td>\n",
       "      <td>1</td>\n",
       "      <td>0</td>\n",
       "      <td>0</td>\n",
       "      <td>0</td>\n",
       "      <td>0</td>\n",
       "    </tr>\n",
       "    <tr>\n",
       "      <th>19692</th>\n",
       "      <td>272.070</td>\n",
       "      <td>0.00</td>\n",
       "      <td>0.0</td>\n",
       "      <td>90</td>\n",
       "      <td>16</td>\n",
       "      <td>medium</td>\n",
       "      <td>0</td>\n",
       "      <td>0</td>\n",
       "      <td>0</td>\n",
       "      <td>0</td>\n",
       "      <td>0</td>\n",
       "      <td>0</td>\n",
       "      <td>0</td>\n",
       "      <td>1</td>\n",
       "      <td>0</td>\n",
       "      <td>0</td>\n",
       "      <td>0</td>\n",
       "      <td>0</td>\n",
       "    </tr>\n",
       "    <tr>\n",
       "      <th>25960</th>\n",
       "      <td>294.690</td>\n",
       "      <td>1.52</td>\n",
       "      <td>0.0</td>\n",
       "      <td>1</td>\n",
       "      <td>21</td>\n",
       "      <td>low</td>\n",
       "      <td>0</td>\n",
       "      <td>0</td>\n",
       "      <td>0</td>\n",
       "      <td>0</td>\n",
       "      <td>0</td>\n",
       "      <td>0</td>\n",
       "      <td>0</td>\n",
       "      <td>1</td>\n",
       "      <td>0</td>\n",
       "      <td>0</td>\n",
       "      <td>0</td>\n",
       "      <td>0</td>\n",
       "    </tr>\n",
       "    <tr>\n",
       "      <th>14075</th>\n",
       "      <td>286.960</td>\n",
       "      <td>0.00</td>\n",
       "      <td>0.0</td>\n",
       "      <td>40</td>\n",
       "      <td>23</td>\n",
       "      <td>medium</td>\n",
       "      <td>0</td>\n",
       "      <td>0</td>\n",
       "      <td>0</td>\n",
       "      <td>0</td>\n",
       "      <td>0</td>\n",
       "      <td>0</td>\n",
       "      <td>0</td>\n",
       "      <td>1</td>\n",
       "      <td>0</td>\n",
       "      <td>0</td>\n",
       "      <td>0</td>\n",
       "      <td>0</td>\n",
       "    </tr>\n",
       "    <tr>\n",
       "      <th>37881</th>\n",
       "      <td>285.150</td>\n",
       "      <td>0.00</td>\n",
       "      <td>0.0</td>\n",
       "      <td>1</td>\n",
       "      <td>23</td>\n",
       "      <td>very low</td>\n",
       "      <td>0</td>\n",
       "      <td>0</td>\n",
       "      <td>0</td>\n",
       "      <td>0</td>\n",
       "      <td>0</td>\n",
       "      <td>0</td>\n",
       "      <td>0</td>\n",
       "      <td>1</td>\n",
       "      <td>0</td>\n",
       "      <td>0</td>\n",
       "      <td>0</td>\n",
       "      <td>0</td>\n",
       "    </tr>\n",
       "    <tr>\n",
       "      <th>1996</th>\n",
       "      <td>271.920</td>\n",
       "      <td>0.00</td>\n",
       "      <td>0.0</td>\n",
       "      <td>75</td>\n",
       "      <td>11</td>\n",
       "      <td>high</td>\n",
       "      <td>0</td>\n",
       "      <td>0</td>\n",
       "      <td>0</td>\n",
       "      <td>0</td>\n",
       "      <td>0</td>\n",
       "      <td>0</td>\n",
       "      <td>0</td>\n",
       "      <td>1</td>\n",
       "      <td>0</td>\n",
       "      <td>0</td>\n",
       "      <td>0</td>\n",
       "      <td>0</td>\n",
       "    </tr>\n",
       "    <tr>\n",
       "      <th>2695</th>\n",
       "      <td>269.170</td>\n",
       "      <td>0.00</td>\n",
       "      <td>0.0</td>\n",
       "      <td>20</td>\n",
       "      <td>17</td>\n",
       "      <td>medium</td>\n",
       "      <td>0</td>\n",
       "      <td>0</td>\n",
       "      <td>0</td>\n",
       "      <td>0</td>\n",
       "      <td>0</td>\n",
       "      <td>0</td>\n",
       "      <td>0</td>\n",
       "      <td>1</td>\n",
       "      <td>0</td>\n",
       "      <td>0</td>\n",
       "      <td>0</td>\n",
       "      <td>0</td>\n",
       "    </tr>\n",
       "    <tr>\n",
       "      <th>23904</th>\n",
       "      <td>291.700</td>\n",
       "      <td>0.76</td>\n",
       "      <td>0.0</td>\n",
       "      <td>90</td>\n",
       "      <td>13</td>\n",
       "      <td>high</td>\n",
       "      <td>0</td>\n",
       "      <td>0</td>\n",
       "      <td>0</td>\n",
       "      <td>0</td>\n",
       "      <td>0</td>\n",
       "      <td>0</td>\n",
       "      <td>0</td>\n",
       "      <td>1</td>\n",
       "      <td>0</td>\n",
       "      <td>0</td>\n",
       "      <td>0</td>\n",
       "      <td>0</td>\n",
       "    </tr>\n",
       "    <tr>\n",
       "      <th>30052</th>\n",
       "      <td>257.220</td>\n",
       "      <td>0.00</td>\n",
       "      <td>0.0</td>\n",
       "      <td>1</td>\n",
       "      <td>0</td>\n",
       "      <td>very low</td>\n",
       "      <td>0</td>\n",
       "      <td>0</td>\n",
       "      <td>0</td>\n",
       "      <td>0</td>\n",
       "      <td>0</td>\n",
       "      <td>0</td>\n",
       "      <td>0</td>\n",
       "      <td>1</td>\n",
       "      <td>0</td>\n",
       "      <td>0</td>\n",
       "      <td>0</td>\n",
       "      <td>0</td>\n",
       "    </tr>\n",
       "    <tr>\n",
       "      <th>27750</th>\n",
       "      <td>289.290</td>\n",
       "      <td>0.00</td>\n",
       "      <td>0.0</td>\n",
       "      <td>1</td>\n",
       "      <td>14</td>\n",
       "      <td>high</td>\n",
       "      <td>0</td>\n",
       "      <td>0</td>\n",
       "      <td>0</td>\n",
       "      <td>0</td>\n",
       "      <td>0</td>\n",
       "      <td>0</td>\n",
       "      <td>0</td>\n",
       "      <td>1</td>\n",
       "      <td>0</td>\n",
       "      <td>0</td>\n",
       "      <td>0</td>\n",
       "      <td>0</td>\n",
       "    </tr>\n",
       "    <tr>\n",
       "      <th>3084</th>\n",
       "      <td>256.150</td>\n",
       "      <td>0.00</td>\n",
       "      <td>0.0</td>\n",
       "      <td>75</td>\n",
       "      <td>10</td>\n",
       "      <td>medium</td>\n",
       "      <td>0</td>\n",
       "      <td>0</td>\n",
       "      <td>0</td>\n",
       "      <td>0</td>\n",
       "      <td>0</td>\n",
       "      <td>0</td>\n",
       "      <td>0</td>\n",
       "      <td>1</td>\n",
       "      <td>0</td>\n",
       "      <td>0</td>\n",
       "      <td>0</td>\n",
       "      <td>0</td>\n",
       "    </tr>\n",
       "    <tr>\n",
       "      <th>27278</th>\n",
       "      <td>279.532</td>\n",
       "      <td>0.00</td>\n",
       "      <td>0.0</td>\n",
       "      <td>92</td>\n",
       "      <td>7</td>\n",
       "      <td>very high</td>\n",
       "      <td>0</td>\n",
       "      <td>0</td>\n",
       "      <td>0</td>\n",
       "      <td>0</td>\n",
       "      <td>0</td>\n",
       "      <td>0</td>\n",
       "      <td>0</td>\n",
       "      <td>1</td>\n",
       "      <td>0</td>\n",
       "      <td>0</td>\n",
       "      <td>0</td>\n",
       "      <td>0</td>\n",
       "    </tr>\n",
       "    <tr>\n",
       "      <th>47441</th>\n",
       "      <td>292.180</td>\n",
       "      <td>0.28</td>\n",
       "      <td>0.0</td>\n",
       "      <td>90</td>\n",
       "      <td>4</td>\n",
       "      <td>very low</td>\n",
       "      <td>0</td>\n",
       "      <td>0</td>\n",
       "      <td>0</td>\n",
       "      <td>0</td>\n",
       "      <td>0</td>\n",
       "      <td>0</td>\n",
       "      <td>0</td>\n",
       "      <td>1</td>\n",
       "      <td>0</td>\n",
       "      <td>0</td>\n",
       "      <td>0</td>\n",
       "      <td>0</td>\n",
       "    </tr>\n",
       "    <tr>\n",
       "      <th>14961</th>\n",
       "      <td>290.510</td>\n",
       "      <td>0.00</td>\n",
       "      <td>0.0</td>\n",
       "      <td>75</td>\n",
       "      <td>3</td>\n",
       "      <td>very low</td>\n",
       "      <td>0</td>\n",
       "      <td>0</td>\n",
       "      <td>0</td>\n",
       "      <td>0</td>\n",
       "      <td>0</td>\n",
       "      <td>0</td>\n",
       "      <td>0</td>\n",
       "      <td>1</td>\n",
       "      <td>0</td>\n",
       "      <td>0</td>\n",
       "      <td>0</td>\n",
       "      <td>0</td>\n",
       "    </tr>\n",
       "    <tr>\n",
       "      <th>48181</th>\n",
       "      <td>280.080</td>\n",
       "      <td>0.00</td>\n",
       "      <td>0.0</td>\n",
       "      <td>90</td>\n",
       "      <td>3</td>\n",
       "      <td>very low</td>\n",
       "      <td>0</td>\n",
       "      <td>0</td>\n",
       "      <td>0</td>\n",
       "      <td>0</td>\n",
       "      <td>0</td>\n",
       "      <td>0</td>\n",
       "      <td>0</td>\n",
       "      <td>1</td>\n",
       "      <td>0</td>\n",
       "      <td>0</td>\n",
       "      <td>0</td>\n",
       "      <td>0</td>\n",
       "    </tr>\n",
       "    <tr>\n",
       "      <th>...</th>\n",
       "      <td>...</td>\n",
       "      <td>...</td>\n",
       "      <td>...</td>\n",
       "      <td>...</td>\n",
       "      <td>...</td>\n",
       "      <td>...</td>\n",
       "      <td>...</td>\n",
       "      <td>...</td>\n",
       "      <td>...</td>\n",
       "      <td>...</td>\n",
       "      <td>...</td>\n",
       "      <td>...</td>\n",
       "      <td>...</td>\n",
       "      <td>...</td>\n",
       "      <td>...</td>\n",
       "      <td>...</td>\n",
       "      <td>...</td>\n",
       "      <td>...</td>\n",
       "    </tr>\n",
       "    <tr>\n",
       "      <th>29904</th>\n",
       "      <td>267.720</td>\n",
       "      <td>0.00</td>\n",
       "      <td>0.0</td>\n",
       "      <td>90</td>\n",
       "      <td>18</td>\n",
       "      <td>medium</td>\n",
       "      <td>0</td>\n",
       "      <td>0</td>\n",
       "      <td>0</td>\n",
       "      <td>0</td>\n",
       "      <td>0</td>\n",
       "      <td>0</td>\n",
       "      <td>0</td>\n",
       "      <td>1</td>\n",
       "      <td>0</td>\n",
       "      <td>0</td>\n",
       "      <td>0</td>\n",
       "      <td>0</td>\n",
       "    </tr>\n",
       "    <tr>\n",
       "      <th>29033</th>\n",
       "      <td>266.680</td>\n",
       "      <td>0.00</td>\n",
       "      <td>0.0</td>\n",
       "      <td>90</td>\n",
       "      <td>15</td>\n",
       "      <td>medium</td>\n",
       "      <td>0</td>\n",
       "      <td>0</td>\n",
       "      <td>0</td>\n",
       "      <td>0</td>\n",
       "      <td>0</td>\n",
       "      <td>0</td>\n",
       "      <td>0</td>\n",
       "      <td>1</td>\n",
       "      <td>0</td>\n",
       "      <td>0</td>\n",
       "      <td>0</td>\n",
       "      <td>0</td>\n",
       "    </tr>\n",
       "    <tr>\n",
       "      <th>23638</th>\n",
       "      <td>290.970</td>\n",
       "      <td>1.52</td>\n",
       "      <td>0.0</td>\n",
       "      <td>90</td>\n",
       "      <td>2</td>\n",
       "      <td>very low</td>\n",
       "      <td>0</td>\n",
       "      <td>0</td>\n",
       "      <td>0</td>\n",
       "      <td>0</td>\n",
       "      <td>0</td>\n",
       "      <td>0</td>\n",
       "      <td>0</td>\n",
       "      <td>1</td>\n",
       "      <td>0</td>\n",
       "      <td>0</td>\n",
       "      <td>0</td>\n",
       "      <td>0</td>\n",
       "    </tr>\n",
       "    <tr>\n",
       "      <th>30749</th>\n",
       "      <td>262.490</td>\n",
       "      <td>0.00</td>\n",
       "      <td>0.0</td>\n",
       "      <td>1</td>\n",
       "      <td>1</td>\n",
       "      <td>very low</td>\n",
       "      <td>0</td>\n",
       "      <td>0</td>\n",
       "      <td>0</td>\n",
       "      <td>0</td>\n",
       "      <td>0</td>\n",
       "      <td>0</td>\n",
       "      <td>0</td>\n",
       "      <td>1</td>\n",
       "      <td>0</td>\n",
       "      <td>0</td>\n",
       "      <td>0</td>\n",
       "      <td>0</td>\n",
       "    </tr>\n",
       "    <tr>\n",
       "      <th>13565</th>\n",
       "      <td>287.660</td>\n",
       "      <td>0.00</td>\n",
       "      <td>0.0</td>\n",
       "      <td>40</td>\n",
       "      <td>18</td>\n",
       "      <td>high</td>\n",
       "      <td>0</td>\n",
       "      <td>0</td>\n",
       "      <td>0</td>\n",
       "      <td>0</td>\n",
       "      <td>0</td>\n",
       "      <td>0</td>\n",
       "      <td>0</td>\n",
       "      <td>1</td>\n",
       "      <td>0</td>\n",
       "      <td>0</td>\n",
       "      <td>0</td>\n",
       "      <td>0</td>\n",
       "    </tr>\n",
       "    <tr>\n",
       "      <th>45904</th>\n",
       "      <td>301.720</td>\n",
       "      <td>0.00</td>\n",
       "      <td>0.0</td>\n",
       "      <td>1</td>\n",
       "      <td>17</td>\n",
       "      <td>high</td>\n",
       "      <td>0</td>\n",
       "      <td>0</td>\n",
       "      <td>0</td>\n",
       "      <td>0</td>\n",
       "      <td>0</td>\n",
       "      <td>0</td>\n",
       "      <td>0</td>\n",
       "      <td>1</td>\n",
       "      <td>0</td>\n",
       "      <td>0</td>\n",
       "      <td>0</td>\n",
       "      <td>0</td>\n",
       "    </tr>\n",
       "    <tr>\n",
       "      <th>18301</th>\n",
       "      <td>300.050</td>\n",
       "      <td>0.00</td>\n",
       "      <td>0.0</td>\n",
       "      <td>1</td>\n",
       "      <td>13</td>\n",
       "      <td>high</td>\n",
       "      <td>0</td>\n",
       "      <td>0</td>\n",
       "      <td>0</td>\n",
       "      <td>0</td>\n",
       "      <td>0</td>\n",
       "      <td>0</td>\n",
       "      <td>0</td>\n",
       "      <td>1</td>\n",
       "      <td>0</td>\n",
       "      <td>0</td>\n",
       "      <td>0</td>\n",
       "      <td>0</td>\n",
       "    </tr>\n",
       "    <tr>\n",
       "      <th>30853</th>\n",
       "      <td>265.510</td>\n",
       "      <td>0.00</td>\n",
       "      <td>0.0</td>\n",
       "      <td>40</td>\n",
       "      <td>20</td>\n",
       "      <td>low</td>\n",
       "      <td>0</td>\n",
       "      <td>0</td>\n",
       "      <td>0</td>\n",
       "      <td>0</td>\n",
       "      <td>0</td>\n",
       "      <td>0</td>\n",
       "      <td>0</td>\n",
       "      <td>1</td>\n",
       "      <td>0</td>\n",
       "      <td>0</td>\n",
       "      <td>0</td>\n",
       "      <td>0</td>\n",
       "    </tr>\n",
       "    <tr>\n",
       "      <th>19725</th>\n",
       "      <td>264.080</td>\n",
       "      <td>0.00</td>\n",
       "      <td>0.0</td>\n",
       "      <td>1</td>\n",
       "      <td>2</td>\n",
       "      <td>very low</td>\n",
       "      <td>0</td>\n",
       "      <td>0</td>\n",
       "      <td>0</td>\n",
       "      <td>0</td>\n",
       "      <td>0</td>\n",
       "      <td>0</td>\n",
       "      <td>0</td>\n",
       "      <td>1</td>\n",
       "      <td>0</td>\n",
       "      <td>0</td>\n",
       "      <td>0</td>\n",
       "      <td>0</td>\n",
       "    </tr>\n",
       "    <tr>\n",
       "      <th>2029</th>\n",
       "      <td>274.080</td>\n",
       "      <td>0.00</td>\n",
       "      <td>0.0</td>\n",
       "      <td>75</td>\n",
       "      <td>16</td>\n",
       "      <td>medium</td>\n",
       "      <td>0</td>\n",
       "      <td>0</td>\n",
       "      <td>0</td>\n",
       "      <td>0</td>\n",
       "      <td>0</td>\n",
       "      <td>0</td>\n",
       "      <td>0</td>\n",
       "      <td>1</td>\n",
       "      <td>0</td>\n",
       "      <td>0</td>\n",
       "      <td>0</td>\n",
       "      <td>0</td>\n",
       "    </tr>\n",
       "    <tr>\n",
       "      <th>15540</th>\n",
       "      <td>286.250</td>\n",
       "      <td>0.00</td>\n",
       "      <td>0.0</td>\n",
       "      <td>40</td>\n",
       "      <td>7</td>\n",
       "      <td>very high</td>\n",
       "      <td>0</td>\n",
       "      <td>0</td>\n",
       "      <td>0</td>\n",
       "      <td>0</td>\n",
       "      <td>0</td>\n",
       "      <td>0</td>\n",
       "      <td>0</td>\n",
       "      <td>1</td>\n",
       "      <td>0</td>\n",
       "      <td>0</td>\n",
       "      <td>0</td>\n",
       "      <td>0</td>\n",
       "    </tr>\n",
       "    <tr>\n",
       "      <th>48021</th>\n",
       "      <td>290.350</td>\n",
       "      <td>0.00</td>\n",
       "      <td>0.0</td>\n",
       "      <td>1</td>\n",
       "      <td>0</td>\n",
       "      <td>very low</td>\n",
       "      <td>0</td>\n",
       "      <td>0</td>\n",
       "      <td>0</td>\n",
       "      <td>0</td>\n",
       "      <td>0</td>\n",
       "      <td>0</td>\n",
       "      <td>0</td>\n",
       "      <td>1</td>\n",
       "      <td>0</td>\n",
       "      <td>0</td>\n",
       "      <td>0</td>\n",
       "      <td>0</td>\n",
       "    </tr>\n",
       "    <tr>\n",
       "      <th>28029</th>\n",
       "      <td>280.820</td>\n",
       "      <td>0.00</td>\n",
       "      <td>0.0</td>\n",
       "      <td>1</td>\n",
       "      <td>22</td>\n",
       "      <td>low</td>\n",
       "      <td>0</td>\n",
       "      <td>0</td>\n",
       "      <td>0</td>\n",
       "      <td>0</td>\n",
       "      <td>0</td>\n",
       "      <td>0</td>\n",
       "      <td>0</td>\n",
       "      <td>1</td>\n",
       "      <td>0</td>\n",
       "      <td>0</td>\n",
       "      <td>0</td>\n",
       "      <td>0</td>\n",
       "    </tr>\n",
       "    <tr>\n",
       "      <th>19834</th>\n",
       "      <td>278.940</td>\n",
       "      <td>0.00</td>\n",
       "      <td>0.0</td>\n",
       "      <td>1</td>\n",
       "      <td>12</td>\n",
       "      <td>high</td>\n",
       "      <td>0</td>\n",
       "      <td>0</td>\n",
       "      <td>0</td>\n",
       "      <td>0</td>\n",
       "      <td>0</td>\n",
       "      <td>0</td>\n",
       "      <td>0</td>\n",
       "      <td>1</td>\n",
       "      <td>0</td>\n",
       "      <td>0</td>\n",
       "      <td>0</td>\n",
       "      <td>0</td>\n",
       "    </tr>\n",
       "    <tr>\n",
       "      <th>18969</th>\n",
       "      <td>281.630</td>\n",
       "      <td>0.00</td>\n",
       "      <td>0.0</td>\n",
       "      <td>90</td>\n",
       "      <td>19</td>\n",
       "      <td>low</td>\n",
       "      <td>0</td>\n",
       "      <td>0</td>\n",
       "      <td>0</td>\n",
       "      <td>0</td>\n",
       "      <td>0</td>\n",
       "      <td>0</td>\n",
       "      <td>0</td>\n",
       "      <td>1</td>\n",
       "      <td>0</td>\n",
       "      <td>0</td>\n",
       "      <td>0</td>\n",
       "      <td>0</td>\n",
       "    </tr>\n",
       "    <tr>\n",
       "      <th>21566</th>\n",
       "      <td>263.730</td>\n",
       "      <td>0.00</td>\n",
       "      <td>0.0</td>\n",
       "      <td>90</td>\n",
       "      <td>6</td>\n",
       "      <td>very high</td>\n",
       "      <td>0</td>\n",
       "      <td>0</td>\n",
       "      <td>0</td>\n",
       "      <td>0</td>\n",
       "      <td>0</td>\n",
       "      <td>0</td>\n",
       "      <td>0</td>\n",
       "      <td>1</td>\n",
       "      <td>0</td>\n",
       "      <td>0</td>\n",
       "      <td>0</td>\n",
       "      <td>0</td>\n",
       "    </tr>\n",
       "    <tr>\n",
       "      <th>45673</th>\n",
       "      <td>298.550</td>\n",
       "      <td>0.00</td>\n",
       "      <td>0.0</td>\n",
       "      <td>1</td>\n",
       "      <td>23</td>\n",
       "      <td>very low</td>\n",
       "      <td>0</td>\n",
       "      <td>0</td>\n",
       "      <td>0</td>\n",
       "      <td>0</td>\n",
       "      <td>0</td>\n",
       "      <td>0</td>\n",
       "      <td>0</td>\n",
       "      <td>1</td>\n",
       "      <td>0</td>\n",
       "      <td>0</td>\n",
       "      <td>0</td>\n",
       "      <td>0</td>\n",
       "    </tr>\n",
       "    <tr>\n",
       "      <th>38439</th>\n",
       "      <td>274.150</td>\n",
       "      <td>0.00</td>\n",
       "      <td>0.0</td>\n",
       "      <td>90</td>\n",
       "      <td>17</td>\n",
       "      <td>high</td>\n",
       "      <td>0</td>\n",
       "      <td>0</td>\n",
       "      <td>0</td>\n",
       "      <td>0</td>\n",
       "      <td>0</td>\n",
       "      <td>0</td>\n",
       "      <td>0</td>\n",
       "      <td>1</td>\n",
       "      <td>0</td>\n",
       "      <td>0</td>\n",
       "      <td>0</td>\n",
       "      <td>0</td>\n",
       "    </tr>\n",
       "    <tr>\n",
       "      <th>17045</th>\n",
       "      <td>293.950</td>\n",
       "      <td>0.00</td>\n",
       "      <td>0.0</td>\n",
       "      <td>1</td>\n",
       "      <td>7</td>\n",
       "      <td>very low</td>\n",
       "      <td>0</td>\n",
       "      <td>0</td>\n",
       "      <td>0</td>\n",
       "      <td>0</td>\n",
       "      <td>0</td>\n",
       "      <td>0</td>\n",
       "      <td>0</td>\n",
       "      <td>1</td>\n",
       "      <td>0</td>\n",
       "      <td>0</td>\n",
       "      <td>0</td>\n",
       "      <td>0</td>\n",
       "    </tr>\n",
       "    <tr>\n",
       "      <th>38114</th>\n",
       "      <td>295.610</td>\n",
       "      <td>0.00</td>\n",
       "      <td>0.0</td>\n",
       "      <td>1</td>\n",
       "      <td>16</td>\n",
       "      <td>very high</td>\n",
       "      <td>0</td>\n",
       "      <td>0</td>\n",
       "      <td>0</td>\n",
       "      <td>0</td>\n",
       "      <td>0</td>\n",
       "      <td>0</td>\n",
       "      <td>0</td>\n",
       "      <td>1</td>\n",
       "      <td>0</td>\n",
       "      <td>0</td>\n",
       "      <td>0</td>\n",
       "      <td>0</td>\n",
       "    </tr>\n",
       "    <tr>\n",
       "      <th>19034</th>\n",
       "      <td>282.230</td>\n",
       "      <td>0.00</td>\n",
       "      <td>0.0</td>\n",
       "      <td>1</td>\n",
       "      <td>22</td>\n",
       "      <td>low</td>\n",
       "      <td>0</td>\n",
       "      <td>0</td>\n",
       "      <td>0</td>\n",
       "      <td>0</td>\n",
       "      <td>0</td>\n",
       "      <td>0</td>\n",
       "      <td>0</td>\n",
       "      <td>1</td>\n",
       "      <td>0</td>\n",
       "      <td>0</td>\n",
       "      <td>0</td>\n",
       "      <td>0</td>\n",
       "    </tr>\n",
       "    <tr>\n",
       "      <th>20453</th>\n",
       "      <td>272.390</td>\n",
       "      <td>0.00</td>\n",
       "      <td>0.0</td>\n",
       "      <td>90</td>\n",
       "      <td>23</td>\n",
       "      <td>very low</td>\n",
       "      <td>0</td>\n",
       "      <td>0</td>\n",
       "      <td>0</td>\n",
       "      <td>0</td>\n",
       "      <td>0</td>\n",
       "      <td>0</td>\n",
       "      <td>0</td>\n",
       "      <td>1</td>\n",
       "      <td>0</td>\n",
       "      <td>0</td>\n",
       "      <td>0</td>\n",
       "      <td>0</td>\n",
       "    </tr>\n",
       "    <tr>\n",
       "      <th>3251</th>\n",
       "      <td>260.590</td>\n",
       "      <td>0.00</td>\n",
       "      <td>0.0</td>\n",
       "      <td>100</td>\n",
       "      <td>9</td>\n",
       "      <td>high</td>\n",
       "      <td>0</td>\n",
       "      <td>0</td>\n",
       "      <td>0</td>\n",
       "      <td>0</td>\n",
       "      <td>0</td>\n",
       "      <td>0</td>\n",
       "      <td>0</td>\n",
       "      <td>1</td>\n",
       "      <td>0</td>\n",
       "      <td>0</td>\n",
       "      <td>0</td>\n",
       "      <td>0</td>\n",
       "    </tr>\n",
       "    <tr>\n",
       "      <th>17002</th>\n",
       "      <td>298.630</td>\n",
       "      <td>0.00</td>\n",
       "      <td>0.0</td>\n",
       "      <td>1</td>\n",
       "      <td>12</td>\n",
       "      <td>high</td>\n",
       "      <td>0</td>\n",
       "      <td>0</td>\n",
       "      <td>0</td>\n",
       "      <td>0</td>\n",
       "      <td>0</td>\n",
       "      <td>0</td>\n",
       "      <td>0</td>\n",
       "      <td>1</td>\n",
       "      <td>0</td>\n",
       "      <td>0</td>\n",
       "      <td>0</td>\n",
       "      <td>0</td>\n",
       "    </tr>\n",
       "    <tr>\n",
       "      <th>12168</th>\n",
       "      <td>251.900</td>\n",
       "      <td>0.00</td>\n",
       "      <td>0.0</td>\n",
       "      <td>20</td>\n",
       "      <td>9</td>\n",
       "      <td>high</td>\n",
       "      <td>0</td>\n",
       "      <td>0</td>\n",
       "      <td>0</td>\n",
       "      <td>0</td>\n",
       "      <td>0</td>\n",
       "      <td>0</td>\n",
       "      <td>0</td>\n",
       "      <td>1</td>\n",
       "      <td>0</td>\n",
       "      <td>0</td>\n",
       "      <td>0</td>\n",
       "      <td>0</td>\n",
       "    </tr>\n",
       "    <tr>\n",
       "      <th>43616</th>\n",
       "      <td>277.350</td>\n",
       "      <td>0.00</td>\n",
       "      <td>0.0</td>\n",
       "      <td>40</td>\n",
       "      <td>4</td>\n",
       "      <td>very low</td>\n",
       "      <td>0</td>\n",
       "      <td>0</td>\n",
       "      <td>0</td>\n",
       "      <td>0</td>\n",
       "      <td>0</td>\n",
       "      <td>0</td>\n",
       "      <td>0</td>\n",
       "      <td>1</td>\n",
       "      <td>0</td>\n",
       "      <td>0</td>\n",
       "      <td>0</td>\n",
       "      <td>0</td>\n",
       "    </tr>\n",
       "    <tr>\n",
       "      <th>26493</th>\n",
       "      <td>289.910</td>\n",
       "      <td>0.00</td>\n",
       "      <td>0.0</td>\n",
       "      <td>75</td>\n",
       "      <td>0</td>\n",
       "      <td>very low</td>\n",
       "      <td>0</td>\n",
       "      <td>0</td>\n",
       "      <td>0</td>\n",
       "      <td>0</td>\n",
       "      <td>0</td>\n",
       "      <td>0</td>\n",
       "      <td>0</td>\n",
       "      <td>1</td>\n",
       "      <td>0</td>\n",
       "      <td>0</td>\n",
       "      <td>0</td>\n",
       "      <td>0</td>\n",
       "    </tr>\n",
       "    <tr>\n",
       "      <th>21035</th>\n",
       "      <td>261.580</td>\n",
       "      <td>0.00</td>\n",
       "      <td>0.0</td>\n",
       "      <td>90</td>\n",
       "      <td>6</td>\n",
       "      <td>high</td>\n",
       "      <td>0</td>\n",
       "      <td>0</td>\n",
       "      <td>0</td>\n",
       "      <td>0</td>\n",
       "      <td>0</td>\n",
       "      <td>0</td>\n",
       "      <td>0</td>\n",
       "      <td>1</td>\n",
       "      <td>0</td>\n",
       "      <td>0</td>\n",
       "      <td>0</td>\n",
       "      <td>0</td>\n",
       "    </tr>\n",
       "    <tr>\n",
       "      <th>14861</th>\n",
       "      <td>289.300</td>\n",
       "      <td>0.00</td>\n",
       "      <td>0.0</td>\n",
       "      <td>40</td>\n",
       "      <td>0</td>\n",
       "      <td>very low</td>\n",
       "      <td>0</td>\n",
       "      <td>0</td>\n",
       "      <td>0</td>\n",
       "      <td>0</td>\n",
       "      <td>0</td>\n",
       "      <td>0</td>\n",
       "      <td>0</td>\n",
       "      <td>1</td>\n",
       "      <td>0</td>\n",
       "      <td>0</td>\n",
       "      <td>0</td>\n",
       "      <td>0</td>\n",
       "    </tr>\n",
       "    <tr>\n",
       "      <th>26858</th>\n",
       "      <td>293.300</td>\n",
       "      <td>0.00</td>\n",
       "      <td>0.0</td>\n",
       "      <td>80</td>\n",
       "      <td>18</td>\n",
       "      <td>medium</td>\n",
       "      <td>0</td>\n",
       "      <td>0</td>\n",
       "      <td>0</td>\n",
       "      <td>0</td>\n",
       "      <td>0</td>\n",
       "      <td>0</td>\n",
       "      <td>0</td>\n",
       "      <td>1</td>\n",
       "      <td>0</td>\n",
       "      <td>0</td>\n",
       "      <td>0</td>\n",
       "      <td>0</td>\n",
       "    </tr>\n",
       "  </tbody>\n",
       "</table>\n",
       "<p>43384 rows × 18 columns</p>\n",
       "</div>"
      ],
      "text/plain": [
       "       temperature  rain_1h  snow_1h  clouds_percentage  date_time  \\\n",
       "18833      276.110     0.00      0.0                  1          7   \n",
       "44432      303.070     0.00      0.0                 75         15   \n",
       "41904      270.670     0.00      0.0                  1         10   \n",
       "4682       277.210     0.00      0.0                 90         10   \n",
       "48199      283.450     0.00      0.0                 75         19   \n",
       "30239      276.080     0.00      0.0                 75         18   \n",
       "1473       271.250     0.00      0.0                 90          0   \n",
       "24023      290.800     0.00      0.0                 40         21   \n",
       "38013      279.750     0.00      0.0                 75          8   \n",
       "44026      288.500     0.00      0.0                 90         13   \n",
       "9279       286.880     0.00      0.0                 90          5   \n",
       "292        284.030     0.00      0.0                 93         20   \n",
       "1778       278.490     0.00      0.0                 40         13   \n",
       "44465      299.070     0.00      0.0                  1         21   \n",
       "6533       295.460     0.00      0.0                 40         19   \n",
       "21059      256.940     0.00      0.0                 75          7   \n",
       "19692      272.070     0.00      0.0                 90         16   \n",
       "25960      294.690     1.52      0.0                  1         21   \n",
       "14075      286.960     0.00      0.0                 40         23   \n",
       "37881      285.150     0.00      0.0                  1         23   \n",
       "1996       271.920     0.00      0.0                 75         11   \n",
       "2695       269.170     0.00      0.0                 20         17   \n",
       "23904      291.700     0.76      0.0                 90         13   \n",
       "30052      257.220     0.00      0.0                  1          0   \n",
       "27750      289.290     0.00      0.0                  1         14   \n",
       "3084       256.150     0.00      0.0                 75         10   \n",
       "27278      279.532     0.00      0.0                 92          7   \n",
       "47441      292.180     0.28      0.0                 90          4   \n",
       "14961      290.510     0.00      0.0                 75          3   \n",
       "48181      280.080     0.00      0.0                 90          3   \n",
       "...            ...      ...      ...                ...        ...   \n",
       "29904      267.720     0.00      0.0                 90         18   \n",
       "29033      266.680     0.00      0.0                 90         15   \n",
       "23638      290.970     1.52      0.0                 90          2   \n",
       "30749      262.490     0.00      0.0                  1          1   \n",
       "13565      287.660     0.00      0.0                 40         18   \n",
       "45904      301.720     0.00      0.0                  1         17   \n",
       "18301      300.050     0.00      0.0                  1         13   \n",
       "30853      265.510     0.00      0.0                 40         20   \n",
       "19725      264.080     0.00      0.0                  1          2   \n",
       "2029       274.080     0.00      0.0                 75         16   \n",
       "15540      286.250     0.00      0.0                 40          7   \n",
       "48021      290.350     0.00      0.0                  1          0   \n",
       "28029      280.820     0.00      0.0                  1         22   \n",
       "19834      278.940     0.00      0.0                  1         12   \n",
       "18969      281.630     0.00      0.0                 90         19   \n",
       "21566      263.730     0.00      0.0                 90          6   \n",
       "45673      298.550     0.00      0.0                  1         23   \n",
       "38439      274.150     0.00      0.0                 90         17   \n",
       "17045      293.950     0.00      0.0                  1          7   \n",
       "38114      295.610     0.00      0.0                  1         16   \n",
       "19034      282.230     0.00      0.0                  1         22   \n",
       "20453      272.390     0.00      0.0                 90         23   \n",
       "3251       260.590     0.00      0.0                100          9   \n",
       "17002      298.630     0.00      0.0                  1         12   \n",
       "12168      251.900     0.00      0.0                 20          9   \n",
       "43616      277.350     0.00      0.0                 40          4   \n",
       "26493      289.910     0.00      0.0                 75          0   \n",
       "21035      261.580     0.00      0.0                 90          6   \n",
       "14861      289.300     0.00      0.0                 40          0   \n",
       "26858      293.300     0.00      0.0                 80         18   \n",
       "\n",
       "      population_density_categorical  holiday_Christmas Day  \\\n",
       "18833                      very high                      0   \n",
       "44432                         medium                      0   \n",
       "41904                         medium                      0   \n",
       "4682                          medium                      0   \n",
       "48199                         medium                      0   \n",
       "30239                           high                      0   \n",
       "1473                        very low                      0   \n",
       "24023                            low                      0   \n",
       "38013                         medium                      0   \n",
       "44026                           high                      0   \n",
       "9279                        very low                      0   \n",
       "292                              low                      0   \n",
       "1778                            high                      0   \n",
       "44465                            low                      0   \n",
       "6533                          medium                      0   \n",
       "21059                      very high                      0   \n",
       "19692                         medium                      0   \n",
       "25960                            low                      0   \n",
       "14075                         medium                      0   \n",
       "37881                       very low                      0   \n",
       "1996                            high                      0   \n",
       "2695                          medium                      0   \n",
       "23904                           high                      0   \n",
       "30052                       very low                      0   \n",
       "27750                           high                      0   \n",
       "3084                          medium                      0   \n",
       "27278                      very high                      0   \n",
       "47441                       very low                      0   \n",
       "14961                       very low                      0   \n",
       "48181                       very low                      0   \n",
       "...                              ...                    ...   \n",
       "29904                         medium                      0   \n",
       "29033                         medium                      0   \n",
       "23638                       very low                      0   \n",
       "30749                       very low                      0   \n",
       "13565                           high                      0   \n",
       "45904                           high                      0   \n",
       "18301                           high                      0   \n",
       "30853                            low                      0   \n",
       "19725                       very low                      0   \n",
       "2029                          medium                      0   \n",
       "15540                      very high                      0   \n",
       "48021                       very low                      0   \n",
       "28029                            low                      0   \n",
       "19834                           high                      0   \n",
       "18969                            low                      0   \n",
       "21566                      very high                      0   \n",
       "45673                       very low                      0   \n",
       "38439                           high                      0   \n",
       "17045                       very low                      0   \n",
       "38114                      very high                      0   \n",
       "19034                            low                      0   \n",
       "20453                       very low                      0   \n",
       "3251                            high                      0   \n",
       "17002                           high                      0   \n",
       "12168                           high                      0   \n",
       "43616                       very low                      0   \n",
       "26493                       very low                      0   \n",
       "21035                           high                      0   \n",
       "14861                       very low                      0   \n",
       "26858                         medium                      0   \n",
       "\n",
       "       holiday_Columbus Day  holiday_Independence Day  holiday_Labor Day  \\\n",
       "18833                     0                         0                  0   \n",
       "44432                     0                         0                  0   \n",
       "41904                     0                         0                  0   \n",
       "4682                      0                         0                  0   \n",
       "48199                     0                         0                  0   \n",
       "30239                     0                         0                  0   \n",
       "1473                      0                         0                  0   \n",
       "24023                     0                         0                  0   \n",
       "38013                     0                         0                  0   \n",
       "44026                     0                         0                  0   \n",
       "9279                      0                         0                  0   \n",
       "292                       0                         0                  0   \n",
       "1778                      0                         0                  0   \n",
       "44465                     0                         0                  0   \n",
       "6533                      0                         0                  0   \n",
       "21059                     0                         0                  0   \n",
       "19692                     0                         0                  0   \n",
       "25960                     0                         0                  0   \n",
       "14075                     0                         0                  0   \n",
       "37881                     0                         0                  0   \n",
       "1996                      0                         0                  0   \n",
       "2695                      0                         0                  0   \n",
       "23904                     0                         0                  0   \n",
       "30052                     0                         0                  0   \n",
       "27750                     0                         0                  0   \n",
       "3084                      0                         0                  0   \n",
       "27278                     0                         0                  0   \n",
       "47441                     0                         0                  0   \n",
       "14961                     0                         0                  0   \n",
       "48181                     0                         0                  0   \n",
       "...                     ...                       ...                ...   \n",
       "29904                     0                         0                  0   \n",
       "29033                     0                         0                  0   \n",
       "23638                     0                         0                  0   \n",
       "30749                     0                         0                  0   \n",
       "13565                     0                         0                  0   \n",
       "45904                     0                         0                  0   \n",
       "18301                     0                         0                  0   \n",
       "30853                     0                         0                  0   \n",
       "19725                     0                         0                  0   \n",
       "2029                      0                         0                  0   \n",
       "15540                     0                         0                  0   \n",
       "48021                     0                         0                  0   \n",
       "28029                     0                         0                  0   \n",
       "19834                     0                         0                  0   \n",
       "18969                     0                         0                  0   \n",
       "21566                     0                         0                  0   \n",
       "45673                     0                         0                  0   \n",
       "38439                     0                         0                  0   \n",
       "17045                     0                         0                  0   \n",
       "38114                     0                         0                  0   \n",
       "19034                     0                         0                  0   \n",
       "20453                     0                         0                  0   \n",
       "3251                      0                         0                  0   \n",
       "17002                     0                         0                  0   \n",
       "12168                     0                         0                  0   \n",
       "43616                     0                         0                  0   \n",
       "26493                     0                         0                  0   \n",
       "21035                     0                         0                  0   \n",
       "14861                     0                         0                  0   \n",
       "26858                     0                         0                  0   \n",
       "\n",
       "       holiday_Martin Luther King Jr Day  holiday_Memorial Day  \\\n",
       "18833                                  0                     0   \n",
       "44432                                  0                     0   \n",
       "41904                                  0                     0   \n",
       "4682                                   0                     0   \n",
       "48199                                  0                     0   \n",
       "30239                                  0                     0   \n",
       "1473                                   0                     0   \n",
       "24023                                  0                     0   \n",
       "38013                                  0                     0   \n",
       "44026                                  0                     0   \n",
       "9279                                   0                     0   \n",
       "292                                    0                     0   \n",
       "1778                                   0                     0   \n",
       "44465                                  0                     0   \n",
       "6533                                   0                     0   \n",
       "21059                                  0                     0   \n",
       "19692                                  0                     0   \n",
       "25960                                  0                     0   \n",
       "14075                                  0                     0   \n",
       "37881                                  0                     0   \n",
       "1996                                   0                     0   \n",
       "2695                                   0                     0   \n",
       "23904                                  0                     0   \n",
       "30052                                  0                     0   \n",
       "27750                                  0                     0   \n",
       "3084                                   0                     0   \n",
       "27278                                  0                     0   \n",
       "47441                                  0                     0   \n",
       "14961                                  0                     0   \n",
       "48181                                  0                     0   \n",
       "...                                  ...                   ...   \n",
       "29904                                  0                     0   \n",
       "29033                                  0                     0   \n",
       "23638                                  0                     0   \n",
       "30749                                  0                     0   \n",
       "13565                                  0                     0   \n",
       "45904                                  0                     0   \n",
       "18301                                  0                     0   \n",
       "30853                                  0                     0   \n",
       "19725                                  0                     0   \n",
       "2029                                   0                     0   \n",
       "15540                                  0                     0   \n",
       "48021                                  0                     0   \n",
       "28029                                  0                     0   \n",
       "19834                                  0                     0   \n",
       "18969                                  0                     0   \n",
       "21566                                  0                     0   \n",
       "45673                                  0                     0   \n",
       "38439                                  0                     0   \n",
       "17045                                  0                     0   \n",
       "38114                                  0                     0   \n",
       "19034                                  0                     0   \n",
       "20453                                  0                     0   \n",
       "3251                                   0                     0   \n",
       "17002                                  0                     0   \n",
       "12168                                  0                     0   \n",
       "43616                                  0                     0   \n",
       "26493                                  0                     0   \n",
       "21035                                  0                     0   \n",
       "14861                                  0                     0   \n",
       "26858                                  0                     0   \n",
       "\n",
       "       holiday_New Years Day  holiday_None  holiday_State Fair  \\\n",
       "18833                      0             1                   0   \n",
       "44432                      0             1                   0   \n",
       "41904                      0             1                   0   \n",
       "4682                       0             1                   0   \n",
       "48199                      0             1                   0   \n",
       "30239                      0             1                   0   \n",
       "1473                       0             1                   0   \n",
       "24023                      0             1                   0   \n",
       "38013                      0             1                   0   \n",
       "44026                      0             1                   0   \n",
       "9279                       0             1                   0   \n",
       "292                        0             1                   0   \n",
       "1778                       0             1                   0   \n",
       "44465                      0             1                   0   \n",
       "6533                       0             1                   0   \n",
       "21059                      0             1                   0   \n",
       "19692                      0             1                   0   \n",
       "25960                      0             1                   0   \n",
       "14075                      0             1                   0   \n",
       "37881                      0             1                   0   \n",
       "1996                       0             1                   0   \n",
       "2695                       0             1                   0   \n",
       "23904                      0             1                   0   \n",
       "30052                      0             1                   0   \n",
       "27750                      0             1                   0   \n",
       "3084                       0             1                   0   \n",
       "27278                      0             1                   0   \n",
       "47441                      0             1                   0   \n",
       "14961                      0             1                   0   \n",
       "48181                      0             1                   0   \n",
       "...                      ...           ...                 ...   \n",
       "29904                      0             1                   0   \n",
       "29033                      0             1                   0   \n",
       "23638                      0             1                   0   \n",
       "30749                      0             1                   0   \n",
       "13565                      0             1                   0   \n",
       "45904                      0             1                   0   \n",
       "18301                      0             1                   0   \n",
       "30853                      0             1                   0   \n",
       "19725                      0             1                   0   \n",
       "2029                       0             1                   0   \n",
       "15540                      0             1                   0   \n",
       "48021                      0             1                   0   \n",
       "28029                      0             1                   0   \n",
       "19834                      0             1                   0   \n",
       "18969                      0             1                   0   \n",
       "21566                      0             1                   0   \n",
       "45673                      0             1                   0   \n",
       "38439                      0             1                   0   \n",
       "17045                      0             1                   0   \n",
       "38114                      0             1                   0   \n",
       "19034                      0             1                   0   \n",
       "20453                      0             1                   0   \n",
       "3251                       0             1                   0   \n",
       "17002                      0             1                   0   \n",
       "12168                      0             1                   0   \n",
       "43616                      0             1                   0   \n",
       "26493                      0             1                   0   \n",
       "21035                      0             1                   0   \n",
       "14861                      0             1                   0   \n",
       "26858                      0             1                   0   \n",
       "\n",
       "       holiday_Thanksgiving Day  holiday_Veterans Day  \\\n",
       "18833                         0                     0   \n",
       "44432                         0                     0   \n",
       "41904                         0                     0   \n",
       "4682                          0                     0   \n",
       "48199                         0                     0   \n",
       "30239                         0                     0   \n",
       "1473                          0                     0   \n",
       "24023                         0                     0   \n",
       "38013                         0                     0   \n",
       "44026                         0                     0   \n",
       "9279                          0                     0   \n",
       "292                           0                     0   \n",
       "1778                          0                     0   \n",
       "44465                         0                     0   \n",
       "6533                          0                     0   \n",
       "21059                         0                     0   \n",
       "19692                         0                     0   \n",
       "25960                         0                     0   \n",
       "14075                         0                     0   \n",
       "37881                         0                     0   \n",
       "1996                          0                     0   \n",
       "2695                          0                     0   \n",
       "23904                         0                     0   \n",
       "30052                         0                     0   \n",
       "27750                         0                     0   \n",
       "3084                          0                     0   \n",
       "27278                         0                     0   \n",
       "47441                         0                     0   \n",
       "14961                         0                     0   \n",
       "48181                         0                     0   \n",
       "...                         ...                   ...   \n",
       "29904                         0                     0   \n",
       "29033                         0                     0   \n",
       "23638                         0                     0   \n",
       "30749                         0                     0   \n",
       "13565                         0                     0   \n",
       "45904                         0                     0   \n",
       "18301                         0                     0   \n",
       "30853                         0                     0   \n",
       "19725                         0                     0   \n",
       "2029                          0                     0   \n",
       "15540                         0                     0   \n",
       "48021                         0                     0   \n",
       "28029                         0                     0   \n",
       "19834                         0                     0   \n",
       "18969                         0                     0   \n",
       "21566                         0                     0   \n",
       "45673                         0                     0   \n",
       "38439                         0                     0   \n",
       "17045                         0                     0   \n",
       "38114                         0                     0   \n",
       "19034                         0                     0   \n",
       "20453                         0                     0   \n",
       "3251                          0                     0   \n",
       "17002                         0                     0   \n",
       "12168                         0                     0   \n",
       "43616                         0                     0   \n",
       "26493                         0                     0   \n",
       "21035                         0                     0   \n",
       "14861                         0                     0   \n",
       "26858                         0                     0   \n",
       "\n",
       "       holiday_Washingtons Birthday  \n",
       "18833                             0  \n",
       "44432                             0  \n",
       "41904                             0  \n",
       "4682                              0  \n",
       "48199                             0  \n",
       "30239                             0  \n",
       "1473                              0  \n",
       "24023                             0  \n",
       "38013                             0  \n",
       "44026                             0  \n",
       "9279                              0  \n",
       "292                               0  \n",
       "1778                              0  \n",
       "44465                             0  \n",
       "6533                              0  \n",
       "21059                             0  \n",
       "19692                             0  \n",
       "25960                             0  \n",
       "14075                             0  \n",
       "37881                             0  \n",
       "1996                              0  \n",
       "2695                              0  \n",
       "23904                             0  \n",
       "30052                             0  \n",
       "27750                             0  \n",
       "3084                              0  \n",
       "27278                             0  \n",
       "47441                             0  \n",
       "14961                             0  \n",
       "48181                             0  \n",
       "...                             ...  \n",
       "29904                             0  \n",
       "29033                             0  \n",
       "23638                             0  \n",
       "30749                             0  \n",
       "13565                             0  \n",
       "45904                             0  \n",
       "18301                             0  \n",
       "30853                             0  \n",
       "19725                             0  \n",
       "2029                              0  \n",
       "15540                             0  \n",
       "48021                             0  \n",
       "28029                             0  \n",
       "19834                             0  \n",
       "18969                             0  \n",
       "21566                             0  \n",
       "45673                             0  \n",
       "38439                             0  \n",
       "17045                             0  \n",
       "38114                             0  \n",
       "19034                             0  \n",
       "20453                             0  \n",
       "3251                              0  \n",
       "17002                             0  \n",
       "12168                             0  \n",
       "43616                             0  \n",
       "26493                             0  \n",
       "21035                             0  \n",
       "14861                             0  \n",
       "26858                             0  \n",
       "\n",
       "[43384 rows x 18 columns]"
      ]
     },
     "execution_count": 28,
     "metadata": {},
     "output_type": "execute_result"
    }
   ],
   "source": [
    "# only numerical inputs work, so map categorical columns to numeric values\n",
    "# TODO: evaluate label vs one-hot encoding\n",
    "\n",
    "# label encoding\n",
    "'''\n",
    "data[\"population_density_categorical\"] = data[\"population_density_categorical\"].astype(\"category\")\n",
    "data[\"holiday\"] = data[\"holiday\"].astype(\"category\")\n",
    "print(\"population_density_categorical mapping:\")\n",
    "print(data[\"population_density_categorical\"].cat.categories)\n",
    "print(\"holiday mapping:\")\n",
    "print(data[\"holiday\"].cat.categories)\n",
    "\n",
    "# convert all categorical columns to their codes\n",
    "cat_columns = data.select_dtypes(['category']).columns\n",
    "data[cat_columns] = data[cat_columns].apply(lambda x: x.cat.codes)\n",
    "'''\n",
    "\n",
    "# one-hot encoding\n",
    "one_hot_holidays = pd.get_dummies(data['holiday'],prefix=\"holiday\")\n",
    "data = pd.concat([data, one_hot_holidays], axis=1)\n",
    "data.drop(['holiday'],axis=1, inplace=True)"
   ]
  },
  {
   "cell_type": "markdown",
   "metadata": {},
   "source": [
    "TODO: explanation"
   ]
  },
  {
   "cell_type": "markdown",
   "metadata": {},
   "source": [
    "Explanation:\n"
   ]
  },
  {
   "cell_type": "markdown",
   "metadata": {},
   "source": [
    "   (b) Divide the data set into a training set *svmTrain* and a test set *svmTest* and briefly motivate your division      strategy. Include these data sets in the data set zip file you submit. \n",
    "   \n",
    "   Hint: Training the SVMs will take longer for a large training set!"
   ]
  },
  {
   "cell_type": "code",
   "execution_count": 31,
   "metadata": {},
   "outputs": [
    {
     "name": "stdout",
     "output_type": "stream",
     "text": [
      "(29067, 18)\n",
      "(14317, 18)\n"
     ]
    }
   ],
   "source": [
    "# TODO: industry standard blablalb\n",
    "# TODO: blabla talk about under/overfitting\n",
    "from sklearn.model_selection import train_test_split\n",
    "svmTrain, svmTest = train_test_split(data, test_size=0.33, random_state=0)\n",
    "print(svmTrain.shape)\n",
    "print(svmTest.shape)"
   ]
  },
  {
   "cell_type": "markdown",
   "metadata": {},
   "source": [
    "Explanation:\n"
   ]
  },
  {
   "cell_type": "markdown",
   "metadata": {},
   "source": [
    "   (c) Use the training set to train 3 different SVMs with different combinations of the parameters. Use at least two distinct values for the parameters *kernel* and *C*."
   ]
  },
  {
   "cell_type": "code",
   "execution_count": 32,
   "metadata": {},
   "outputs": [
    {
     "name": "stderr",
     "output_type": "stream",
     "text": [
      "/home/ha2/anaconda2/envs/ids/lib/python3.8/site-packages/sklearn/svm/base.py:189: FutureWarning: The default value of gamma will change from 'auto' to 'scale' in version 0.22 to account better for unscaled features. Set gamma explicitly to 'auto' or 'scale' to avoid this warning.\n",
      "  warnings.warn(\"The default value of gamma will change \"\n"
     ]
    },
    {
     "data": {
      "text/plain": [
       "SVC(C=0.001, cache_size=200, class_weight=None, coef0=0.0,\n",
       "    decision_function_shape='ovr', degree=3, gamma='auto_deprecated',\n",
       "    kernel='linear', max_iter=-1, probability=False, random_state=None,\n",
       "    shrinking=True, tol=0.001, verbose=False)"
      ]
     },
     "execution_count": 32,
     "metadata": {},
     "output_type": "execute_result"
    }
   ],
   "source": [
    "from sklearn.svm import SVC\n",
    "\n",
    "target = \"population_density_categorical\"\n",
    "features = data.columns.tolist()\n",
    "features.remove(target)\n",
    "X = svmTrain[features]\n",
    "y = svmTrain[target]\n",
    "svmTestX = svmTest[features]\n",
    "svmTestY = svmTest[target]\n",
    "\n",
    "classifierLinear = SVC(C=10, kernel='linear')\n",
    "classifierLinear.fit(X, y)\n",
    "classifierRbf = SVC(C=1, kernel='rbf')\n",
    "classifierRbf.fit(X, y)\n",
    "classifierLinearBad = SVC(C=0.001, kernel='linear')\n",
    "classifierLinearBad.fit(X, y)"
   ]
  },
  {
   "cell_type": "markdown",
   "metadata": {},
   "source": [
    "   (d) Compute and print the mean accurracy and classification report of the trained SVMs with respect to the test set (as shown in instruction)."
   ]
  },
  {
   "cell_type": "code",
   "execution_count": 33,
   "metadata": {
    "scrolled": true
   },
   "outputs": [
    {
     "name": "stdout",
     "output_type": "stream",
     "text": [
      "Evaluating SVM with linear kernel, C = 10:\n",
      "Accuracy: \n",
      " 0.5548648459872878 \n",
      "\n"
     ]
    },
    {
     "name": "stderr",
     "output_type": "stream",
     "text": [
      "/home/ha2/anaconda2/envs/ids/lib/python3.8/site-packages/sklearn/metrics/classification.py:1436: UndefinedMetricWarning: Precision and F-score are ill-defined and being set to 0.0 in labels with no predicted samples.\n",
      "  precision = _prf_divide(tp_sum, pred_sum,\n"
     ]
    },
    {
     "name": "stdout",
     "output_type": "stream",
     "text": [
      "Classification Report: \n",
      "               precision    recall  f1-score   support\n",
      "\n",
      "        high       0.62      0.68      0.65      4041\n",
      "         low       0.40      0.33      0.36      2193\n",
      "      medium       0.35      0.36      0.35      2680\n",
      "   very high       0.00      0.00      0.00      1423\n",
      "    very low       0.65      0.88      0.75      3980\n",
      "\n",
      "    accuracy                           0.55     14317\n",
      "   macro avg       0.41      0.45      0.42     14317\n",
      "weighted avg       0.48      0.55      0.51     14317\n",
      " \n",
      "\n",
      "Evaluating SVM with rbf kernel, C = 1:\n",
      "Accuracy: \n",
      " 0.6651533142418105 \n",
      "\n",
      "Classification Report: \n",
      "               precision    recall  f1-score   support\n",
      "\n",
      "        high       0.60      0.78      0.68      4041\n",
      "         low       0.64      0.51      0.57      2193\n",
      "      medium       0.63      0.34      0.44      2680\n",
      "   very high       0.50      0.54      0.52      1423\n",
      "    very low       0.82      0.90      0.86      3980\n",
      "\n",
      "    accuracy                           0.67     14317\n",
      "   macro avg       0.64      0.61      0.61     14317\n",
      "weighted avg       0.66      0.67      0.65     14317\n",
      " \n",
      "\n",
      "Evaluating SVM with linear kernel, C = 0.001:\n",
      "Accuracy: \n",
      " 0.5683453237410072 \n",
      "\n"
     ]
    },
    {
     "name": "stderr",
     "output_type": "stream",
     "text": [
      "/home/ha2/anaconda2/envs/ids/lib/python3.8/site-packages/sklearn/metrics/classification.py:1436: UndefinedMetricWarning: Precision and F-score are ill-defined and being set to 0.0 in labels with no predicted samples.\n",
      "  precision = _prf_divide(tp_sum, pred_sum,\n"
     ]
    },
    {
     "name": "stdout",
     "output_type": "stream",
     "text": [
      "Classification Report: \n",
      "               precision    recall  f1-score   support\n",
      "\n",
      "        high       0.60      0.74      0.66      4041\n",
      "         low       0.44      0.26      0.33      2193\n",
      "      medium       0.35      0.40      0.38      2680\n",
      "   very high       0.00      0.00      0.00      1423\n",
      "    very low       0.70      0.88      0.78      3980\n",
      "\n",
      "    accuracy                           0.57     14317\n",
      "   macro avg       0.42      0.46      0.43     14317\n",
      "weighted avg       0.50      0.57      0.52     14317\n",
      " \n",
      "\n"
     ]
    }
   ],
   "source": [
    "# Your code:\n",
    "from sklearn.metrics import classification_report\n",
    "print('Evaluation of SVM with linear kernel, C = 10:')\n",
    "predLinear = classifierLinear.predict(svmTestX)\n",
    "print('Accuracy: \\n', classifierLinear.score(svmTestX, svmTestY), '\\n')\n",
    "print('Classification Report: \\n', classification_report(svmTestY, predLinear), '\\n')\n",
    "\n",
    "print('Evaluation of SVM with rbf kernel, C = 1:')\n",
    "predRbf = classifierRbf.predict(svmTestX)\n",
    "print('Accuracy: \\n', classifierRbf.score(svmTestX, svmTestY), '\\n')\n",
    "print('Classification Report: \\n', classification_report(svmTestY, predRbf), '\\n')\n",
    "\n",
    "print('Evaluation of SVM with linear kernel, C = 0.001:')\n",
    "predLinearBad = classifierLinearBad.predict(svmTestX)\n",
    "print('Accuracy: \\n', classifierLinearBad.score(svmTestX, svmTestY), '\\n')\n",
    "print('Classification Report: \\n', classification_report(svmTestY, predLinearBad), '\\n')  "
   ]
  },
  {
   "cell_type": "markdown",
   "metadata": {},
   "source": [
    "   (e) Interpret and evaluate the 3 SVMs and compare them. Why are they similar/different? Which SVM do you recommend and why?"
   ]
  },
  {
   "cell_type": "markdown",
   "metadata": {},
   "source": [
    "Explanation: TODO"
   ]
  },
  {
   "cell_type": "markdown",
   "metadata": {},
   "source": [
    "## Question 5 - Neural Networks (20 points)\n",
    "In this question consider the whole dataset that you have created in the *Preprocessing of Dataset* section. The target feature is *population_density_categorical*. \n",
    "\n",
    "To avoid performance problems, use the first 4000 rows of your dataset (you will need 2000 for training and 2000 for testing)."
   ]
  },
  {
   "cell_type": "markdown",
   "metadata": {},
   "source": [
    "   (a) What are the possible inputs of your network?\n",
    "     - Show the possible extracted features.\n",
    "     - Show the number of possible patterns of inputs for the categorical data."
   ]
  },
  {
   "cell_type": "code",
   "execution_count": null,
   "metadata": {},
   "outputs": [],
   "source": [
    "data = data_preprocessed.copy()\n",
    "\n",
    "# Your code:\n",
    "\n"
   ]
  },
  {
   "cell_type": "markdown",
   "metadata": {},
   "source": [
    "Explanation:\n"
   ]
  },
  {
   "cell_type": "markdown",
   "metadata": {},
   "source": [
    "   (b) Before using the Neural Network algorithm, do you think it provides an accurate result? Why? \n",
    "     - Your explanation should be supported by data."
   ]
  },
  {
   "cell_type": "markdown",
   "metadata": {},
   "source": [
    "Explanation:\n"
   ]
  },
  {
   "cell_type": "code",
   "execution_count": null,
   "metadata": {},
   "outputs": [],
   "source": [
    "# Your code:\n",
    "\n"
   ]
  },
  {
   "cell_type": "markdown",
   "metadata": {},
   "source": [
    "   (c) Which features can be used for designing your network as inputs? Why?\n",
    "       - Which features should be changed (example: from categorical to numerical or numerical to categorical)? Why? \n",
    "       - Convert the features. "
   ]
  },
  {
   "cell_type": "markdown",
   "metadata": {},
   "source": [
    "Explanation:\n"
   ]
  },
  {
   "cell_type": "code",
   "execution_count": null,
   "metadata": {},
   "outputs": [],
   "source": [
    "# Your code:\n",
    "\n"
   ]
  },
  {
   "cell_type": "markdown",
   "metadata": {},
   "source": [
    "   (d) Train your network with default hyperparameters and return the parameters."
   ]
  },
  {
   "cell_type": "code",
   "execution_count": null,
   "metadata": {},
   "outputs": [],
   "source": [
    "# Your code:\n",
    "\n"
   ]
  },
  {
   "cell_type": "markdown",
   "metadata": {},
   "source": [
    "   (e) Try to find an optimized number of hidden layers and nodes. \n",
    "      - Start with default numbers and then at least go with one number above and one number below the default.\n",
    "      - Use the 2000 rows of the data for training.\n",
    "      - What are the optimized numbers of hidden layers and nodes that you have found?"
   ]
  },
  {
   "cell_type": "code",
   "execution_count": null,
   "metadata": {},
   "outputs": [],
   "source": [
    "# Your code: (number of hidden layers)\n",
    "\n"
   ]
  },
  {
   "cell_type": "code",
   "execution_count": null,
   "metadata": {},
   "outputs": [],
   "source": [
    "# Your code: (number of nodes in the hidden layer)\n",
    "\n"
   ]
  },
  {
   "cell_type": "code",
   "execution_count": null,
   "metadata": {},
   "outputs": [],
   "source": [
    "# Your code: (optimized network) \n",
    "\n"
   ]
  },
  {
   "cell_type": "markdown",
   "metadata": {},
   "source": [
    "Explanation:\n"
   ]
  },
  {
   "cell_type": "markdown",
   "metadata": {},
   "source": [
    "   (f) Try to train your model with one linear activation function and one non-linear activation function. Use the default number of hidden layers and nodes.\n",
    "     - Name the functions and explain how the results are different and why. \n",
    "     - You can use evaluation metrics to show which activation function works better for this data set.\n",
    "     - Use the 2000 rows of the data for training."
   ]
  },
  {
   "cell_type": "code",
   "execution_count": null,
   "metadata": {},
   "outputs": [],
   "source": [
    "# Your code: (linear activation function):\n",
    "\n"
   ]
  },
  {
   "cell_type": "code",
   "execution_count": null,
   "metadata": {},
   "outputs": [],
   "source": [
    "# Your code: (non-linear activation function):\n",
    "\n"
   ]
  },
  {
   "cell_type": "markdown",
   "metadata": {},
   "source": [
    "Explanation:\n"
   ]
  },
  {
   "cell_type": "markdown",
   "metadata": {},
   "source": [
    "## Question 6 - Evaluation (10 Points)"
   ]
  },
  {
   "cell_type": "markdown",
   "metadata": {},
   "source": [
    "   (a) Consider one of the models in question 4 (c) of your choice, one neural network with optimized number of hidden layers and nodes from question 5 (e), and the neural network with non-linear activation function from question 5 (f), for a total of *three* models, together with their respective datasets. Compute the following metrics for a 3-fold cross validation performed on each model:"
   ]
  },
  {
   "cell_type": "markdown",
   "metadata": {},
   "source": [
    "- Confusion matrices on the training data (sum cell-by-cell the results of each fold)"
   ]
  },
  {
   "cell_type": "code",
   "execution_count": null,
   "metadata": {},
   "outputs": [],
   "source": [
    "# Your code for the confusion matrices on the training data\n",
    "\n"
   ]
  },
  {
   "cell_type": "markdown",
   "metadata": {},
   "source": [
    "- Confusion matrices on the test data (sum cell-by-cell the results of each fold)"
   ]
  },
  {
   "cell_type": "code",
   "execution_count": null,
   "metadata": {},
   "outputs": [],
   "source": [
    "# Your code for the confusion matrices on the test data\n",
    "\n"
   ]
  },
  {
   "cell_type": "markdown",
   "metadata": {},
   "source": [
    "- Precision, recall and F1-scores on the test data (give explicitly the result for each fold)"
   ]
  },
  {
   "cell_type": "code",
   "execution_count": null,
   "metadata": {},
   "outputs": [],
   "source": [
    "# Your code for precision, recall and F1-scores on the test data\n",
    "\n"
   ]
  },
  {
   "cell_type": "markdown",
   "metadata": {},
   "source": [
    "- Accuracy scores on training and test data (give explicitly the result for each fold)"
   ]
  },
  {
   "cell_type": "code",
   "execution_count": null,
   "metadata": {},
   "outputs": [],
   "source": [
    "# Your code for accuracy scores on training and test data\n",
    "\n"
   ]
  },
  {
   "cell_type": "markdown",
   "metadata": {},
   "source": [
    "In order to turn numbers into insights, please comment on your findings. Motivate the answers to the following questions using the metrics and the findings in the questions 1 through 5 of the assignment."
   ]
  },
  {
   "cell_type": "markdown",
   "metadata": {},
   "source": [
    "   (b) What is, in your opinion, the best model? Motivate your answer with the correct performance metrics."
   ]
  },
  {
   "cell_type": "markdown",
   "metadata": {},
   "source": [
    "Explanation:\n"
   ]
  },
  {
   "cell_type": "markdown",
   "metadata": {},
   "source": [
    "   (c) Does any model suffer from underfitting or overfitting? Motivate your answer with the correct performance metrics."
   ]
  },
  {
   "cell_type": "markdown",
   "metadata": {},
   "source": [
    "Explanation:\n"
   ]
  },
  {
   "cell_type": "markdown",
   "metadata": {},
   "source": [
    "   (d) What is the effect of employing cross validation, instead of simply holding our a certain percentage of examples as test/validation set? What are the advantages and disadvantages of cross validation?"
   ]
  },
  {
   "cell_type": "markdown",
   "metadata": {},
   "source": [
    "Explanation:\n"
   ]
  }
 ],
 "metadata": {
  "kernelspec": {
   "display_name": "Python 3",
   "language": "python",
   "name": "python3"
  },
  "language_info": {
   "codemirror_mode": {
    "name": "ipython",
    "version": 3
   },
   "file_extension": ".py",
   "mimetype": "text/x-python",
   "name": "python",
   "nbconvert_exporter": "python",
   "pygments_lexer": "ipython3",
   "version": "3.6.5"
  }
 },
 "nbformat": 4,
 "nbformat_minor": 2
}
